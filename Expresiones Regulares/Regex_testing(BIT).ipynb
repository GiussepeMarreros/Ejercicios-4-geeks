{
  "nbformat": 4,
  "nbformat_minor": 0,
  "metadata": {
    "colab": {
      "provenance": []
    },
    "kernelspec": {
      "name": "python3",
      "display_name": "Python 3"
    },
    "language_info": {
      "name": "python"
    }
  },
  "cells": [
    {
      "cell_type": "code",
      "execution_count": null,
      "metadata": {
        "id": "YVeoEflQBm82"
      },
      "outputs": [],
      "source": [
        "import re"
      ]
    },
    {
      "cell_type": "code",
      "source": [
        "%%writefile testing.txt\n",
        "In this text some lines include the word play in others not\n",
        "in this second line play appear\n",
        "in this third line not appear\n",
        "in this line maybe\n",
        "in this line Play appear UPPERCASE IN PLAY\n",
        "the last line  dont have the word!"
      ],
      "metadata": {
        "colab": {
          "base_uri": "https://localhost:8080/"
        },
        "id": "VTI5syCVByjz",
        "outputId": "85789344-7708-44f7-e1ab-a58d74b3b525"
      },
      "execution_count": null,
      "outputs": [
        {
          "output_type": "stream",
          "name": "stdout",
          "text": [
            "Overwriting testing.txt\n"
          ]
        }
      ]
    },
    {
      "cell_type": "code",
      "source": [
        "!pip install  grep"
      ],
      "metadata": {
        "colab": {
          "base_uri": "https://localhost:8080/"
        },
        "id": "tz71UpGlCK50",
        "outputId": "e9a1cf27-5257-498b-e9cb-1b562fc13a0c"
      },
      "execution_count": null,
      "outputs": [
        {
          "output_type": "stream",
          "name": "stdout",
          "text": [
            "Requirement already satisfied: grep in /usr/local/lib/python3.10/dist-packages (0.3.2)\n"
          ]
        }
      ]
    },
    {
      "cell_type": "code",
      "source": [
        "!grep -i play testing.txt  # ok"
      ],
      "metadata": {
        "colab": {
          "base_uri": "https://localhost:8080/"
        },
        "id": "Hp_k1wwZCRBJ",
        "outputId": "29f75a1f-bcc8-4026-a613-1d892d2b0137"
      },
      "execution_count": null,
      "outputs": [
        {
          "output_type": "stream",
          "name": "stdout",
          "text": [
            "In this text some lines include the word play in others not\n",
            "in this second line play appear\n",
            "in this line Play appear UPPERCASE IN PLAY\n"
          ]
        }
      ]
    },
    {
      "cell_type": "code",
      "source": [
        "!grep play testing.txt"
      ],
      "metadata": {
        "colab": {
          "base_uri": "https://localhost:8080/"
        },
        "id": "NS7H-NvWC3_0",
        "outputId": "46519eea-4cd2-4890-a500-ed809b29c037"
      },
      "execution_count": null,
      "outputs": [
        {
          "output_type": "stream",
          "name": "stdout",
          "text": [
            "In this text some lines include the word play in others not\n",
            "in this second line play appear\n"
          ]
        }
      ]
    },
    {
      "cell_type": "code",
      "source": [
        "%%writefile cats.txt\n",
        "this line contain the word to the end cat\n",
        "cat is a nice animal\n",
        "this line contain cat here\n",
        "cat is black\n",
        "is blue the cat\n",
        "cat inicio\n",
        "final cat"
      ],
      "metadata": {
        "colab": {
          "base_uri": "https://localhost:8080/"
        },
        "id": "X2ElevpNDWEV",
        "outputId": "2fb3c7cf-1428-468a-d602-c4023ca74010"
      },
      "execution_count": null,
      "outputs": [
        {
          "output_type": "stream",
          "name": "stdout",
          "text": [
            "Overwriting cats.txt\n"
          ]
        }
      ]
    },
    {
      "cell_type": "code",
      "source": [
        "!grep -i cat$ cats.txt"
      ],
      "metadata": {
        "colab": {
          "base_uri": "https://localhost:8080/"
        },
        "id": "ogr10fUCD_nr",
        "outputId": "31e95f96-9e68-4d18-c1e7-19e0dc85f76c"
      },
      "execution_count": null,
      "outputs": [
        {
          "output_type": "stream",
          "name": "stdout",
          "text": [
            "this line contain the word to the end cat\n",
            "is blue the cat\n",
            "final cat\n"
          ]
        }
      ]
    },
    {
      "cell_type": "code",
      "source": [
        "!grep -i ^cat cats.txt # search at begging"
      ],
      "metadata": {
        "colab": {
          "base_uri": "https://localhost:8080/"
        },
        "id": "Dmph4TmPE4vo",
        "outputId": "915dfcb7-b776-4d7e-dddf-dd0fe71666e8"
      },
      "execution_count": null,
      "outputs": [
        {
          "output_type": "stream",
          "name": "stdout",
          "text": [
            "cat is a nice animal\n",
            "cat is black\n",
            "cat inicio\n"
          ]
        }
      ]
    },
    {
      "cell_type": "code",
      "source": [
        "import re"
      ],
      "metadata": {
        "id": "zaAqXd2xFucl"
      },
      "execution_count": null,
      "outputs": []
    },
    {
      "cell_type": "code",
      "source": [
        "target = 'gayla y julieth están en la juega gayla'\n",
        "re.search(r'gayla', target)"
      ],
      "metadata": {
        "colab": {
          "base_uri": "https://localhost:8080/"
        },
        "id": "mbb2TnPaF8_b",
        "outputId": "7faf65ab-355a-423f-cd74-8cde314939ca"
      },
      "execution_count": null,
      "outputs": [
        {
          "output_type": "execute_result",
          "data": {
            "text/plain": [
              "<re.Match object; span=(0, 5), match='gayla'>"
            ]
          },
          "metadata": {},
          "execution_count": 74
        }
      ]
    },
    {
      "cell_type": "code",
      "source": [
        "target = 'word aparece aquí y aparece tambien aquí word pero tambien aquí'"
      ],
      "metadata": {
        "id": "tscoJxWpGVVh"
      },
      "execution_count": null,
      "outputs": []
    },
    {
      "cell_type": "code",
      "source": [
        "re.findall(r'aquí', target)"
      ],
      "metadata": {
        "colab": {
          "base_uri": "https://localhost:8080/"
        },
        "id": "StuJP4uQH39R",
        "outputId": "0ca298fb-915d-4f81-9709-b68b739db902"
      },
      "execution_count": null,
      "outputs": [
        {
          "output_type": "execute_result",
          "data": {
            "text/plain": [
              "['aquí', 'aquí', 'aquí']"
            ]
          },
          "metadata": {},
          "execution_count": 76
        }
      ]
    },
    {
      "cell_type": "code",
      "source": [
        "target = 'en 1997 los soldados rusos atacaron la primera estación, no osbtante en 1998 ocurrió el segundo'"
      ],
      "metadata": {
        "id": "6_wBuePlTgOZ"
      },
      "execution_count": null,
      "outputs": []
    },
    {
      "cell_type": "code",
      "source": [
        "re.findall(r'[1-9][0-9][0-9][0-9]', target) # forma brusca"
      ],
      "metadata": {
        "colab": {
          "base_uri": "https://localhost:8080/"
        },
        "id": "VADikcD0IQzt",
        "outputId": "4bf809ed-0fb8-44e7-dd95-24f06e16f8a2"
      },
      "execution_count": null,
      "outputs": [
        {
          "output_type": "execute_result",
          "data": {
            "text/plain": [
              "['1997', '1998']"
            ]
          },
          "metadata": {},
          "execution_count": 78
        }
      ]
    },
    {
      "cell_type": "code",
      "source": [
        "re.findall(r'[0-9]{4}', target)"
      ],
      "metadata": {
        "colab": {
          "base_uri": "https://localhost:8080/"
        },
        "id": "fC1wDQqrI03c",
        "outputId": "5dff6af9-6501-4865-d3a3-040278ce86fd"
      },
      "execution_count": null,
      "outputs": [
        {
          "output_type": "execute_result",
          "data": {
            "text/plain": [
              "['1997', '1998']"
            ]
          },
          "metadata": {},
          "execution_count": 79
        }
      ]
    },
    {
      "cell_type": "code",
      "source": [
        "target = ' en el año 1987 nació cristian, en el año 1995 nació les, en el 1992 el milton lady nacio en 1980 pero no tenemos registro edl nacimeinto yeka 198?'"
      ],
      "metadata": {
        "id": "2Eh1Pc5HIG73"
      },
      "execution_count": null,
      "outputs": []
    },
    {
      "cell_type": "code",
      "source": [
        "re.findall(r'[0-9]{3}.', target)"
      ],
      "metadata": {
        "colab": {
          "base_uri": "https://localhost:8080/"
        },
        "id": "yIEPEPiMJZn1",
        "outputId": "c9acfac1-f19a-43ea-ee3b-c28ba3608e5e"
      },
      "execution_count": null,
      "outputs": [
        {
          "output_type": "execute_result",
          "data": {
            "text/plain": [
              "['1987', '1995', '1992', '1980', '198?']"
            ]
          },
          "metadata": {},
          "execution_count": 81
        }
      ]
    },
    {
      "cell_type": "code",
      "source": [
        "target = 'fresitcristianla@gmail.com, gayla@hotmail.com, milton1993@yahoo.es, @yahoo.com esto es texto aislado esto no tiene nada que ver les@.com orjuela@usco.edu.co'"
      ],
      "metadata": {
        "id": "YUSZXNeeJulV"
      },
      "execution_count": null,
      "outputs": []
    },
    {
      "cell_type": "code",
      "source": [
        "re.findall(r'[a-z0-9]+@[a-z]+\\.[a-z]{,3}', target) ## pendiente el .co"
      ],
      "metadata": {
        "colab": {
          "base_uri": "https://localhost:8080/"
        },
        "id": "4O4j4ZahJqry",
        "outputId": "86c7da9f-4f13-4880-f665-648e290749c7"
      },
      "execution_count": null,
      "outputs": [
        {
          "output_type": "execute_result",
          "data": {
            "text/plain": [
              "['fresitcristianla@gmail.com',\n",
              " 'gayla@hotmail.com',\n",
              " 'milton1993@yahoo.es',\n",
              " 'orjuela@usco.edu']"
            ]
          },
          "metadata": {},
          "execution_count": 83
        }
      ]
    },
    {
      "cell_type": "code",
      "source": [
        "data =  ['year1990', 'year1x42', 'year1998', 'yearA134']\n",
        "for date in data:\n",
        "  print(re.search(r'year[0-9]{4}', date))"
      ],
      "metadata": {
        "colab": {
          "base_uri": "https://localhost:8080/"
        },
        "id": "EccVyC6MMqGY",
        "outputId": "8038198e-3103-4649-b1fd-3de092bd343a"
      },
      "execution_count": null,
      "outputs": [
        {
          "output_type": "stream",
          "name": "stdout",
          "text": [
            "<re.Match object; span=(0, 8), match='year1990'>\n",
            "None\n",
            "<re.Match object; span=(0, 8), match='year1998'>\n",
            "None\n"
          ]
        }
      ]
    },
    {
      "cell_type": "code",
      "source": [
        "re.search(r'year[0-9]{4}', 'year1999')"
      ],
      "metadata": {
        "colab": {
          "base_uri": "https://localhost:8080/"
        },
        "id": "O-UbimVDO84t",
        "outputId": "95268367-93ba-4608-f894-30e6245e3961"
      },
      "execution_count": null,
      "outputs": [
        {
          "output_type": "execute_result",
          "data": {
            "text/plain": [
              "<re.Match object; span=(0, 8), match='year1999'>"
            ]
          },
          "metadata": {},
          "execution_count": 85
        }
      ]
    },
    {
      "cell_type": "code",
      "source": [
        "re.findall(r'is', 'this is a course about data analysis')"
      ],
      "metadata": {
        "colab": {
          "base_uri": "https://localhost:8080/"
        },
        "id": "A9U_y3dYP6dQ",
        "outputId": "a1d38aed-3f7f-4c29-a062-773b0b4ce917"
      },
      "execution_count": null,
      "outputs": [
        {
          "output_type": "execute_result",
          "data": {
            "text/plain": [
              "['is', 'is', 'is']"
            ]
          },
          "metadata": {},
          "execution_count": 86
        }
      ]
    },
    {
      "cell_type": "code",
      "source": [
        "target  = 'en texto ubique los meses de febrero marzo abril pero no mayo ni junio ni julio que no me interesan'"
      ],
      "metadata": {
        "id": "an5UZNd-U5Sr"
      },
      "execution_count": null,
      "outputs": []
    },
    {
      "cell_type": "code",
      "source": [
        "re.findall(r'marzo|junio', target)"
      ],
      "metadata": {
        "colab": {
          "base_uri": "https://localhost:8080/"
        },
        "id": "iN18K1WWVBGt",
        "outputId": "4aeabd11-b0b6-4cb6-9e0c-abff8be15018"
      },
      "execution_count": null,
      "outputs": [
        {
          "output_type": "execute_result",
          "data": {
            "text/plain": [
              "['marzo', 'junio']"
            ]
          },
          "metadata": {},
          "execution_count": 88
        }
      ]
    },
    {
      "cell_type": "code",
      "source": [
        "# Whats is a behavior greedy?\n",
        "websource = \"<html><body><olimpica hello world mundo></html>\"\n",
        "re.findall(r\"<.*>\", websource) # the greedy behavior is interesting"
      ],
      "metadata": {
        "colab": {
          "base_uri": "https://localhost:8080/"
        },
        "id": "ecLCuKrdVRkz",
        "outputId": "49173be0-01c9-48d2-c40f-7eeab054a9c7"
      },
      "execution_count": null,
      "outputs": [
        {
          "output_type": "execute_result",
          "data": {
            "text/plain": [
              "['<html><body><olimpica hello world mundo></html>']"
            ]
          },
          "metadata": {},
          "execution_count": 89
        }
      ]
    },
    {
      "cell_type": "code",
      "source": [
        "re.findall(r\"<.*?>\", websource) # deje de ser vora"
      ],
      "metadata": {
        "colab": {
          "base_uri": "https://localhost:8080/"
        },
        "id": "fJOy3v3MYA-p",
        "outputId": "6d68b0ca-de27-4ede-b732-96a934065776"
      },
      "execution_count": null,
      "outputs": [
        {
          "output_type": "execute_result",
          "data": {
            "text/plain": [
              "['<html>', '<body>', '<olimpica hello world mundo>', '</html>']"
            ]
          },
          "metadata": {},
          "execution_count": 90
        }
      ]
    },
    {
      "cell_type": "code",
      "source": [
        "target = \"1998-year\"\n",
        "print(re.search(r\"([0-9]*)\", target))\n",
        "res = re.search(r\"([0-9]*)-(year)\", target)"
      ],
      "metadata": {
        "colab": {
          "base_uri": "https://localhost:8080/"
        },
        "id": "sG_PHvd0aKvr",
        "outputId": "67059b5f-9fb0-447e-a441-79fe6e91b45e"
      },
      "execution_count": null,
      "outputs": [
        {
          "output_type": "stream",
          "name": "stdout",
          "text": [
            "<re.Match object; span=(0, 4), match='1998'>\n"
          ]
        }
      ]
    },
    {
      "cell_type": "code",
      "source": [
        "res.groups()"
      ],
      "metadata": {
        "colab": {
          "base_uri": "https://localhost:8080/"
        },
        "id": "PnfEhjjVadqD",
        "outputId": "1b00b794-ded0-42ca-de63-fe3dbd1eba4b"
      },
      "execution_count": null,
      "outputs": [
        {
          "output_type": "execute_result",
          "data": {
            "text/plain": [
              "('1998', 'year')"
            ]
          },
          "metadata": {},
          "execution_count": 92
        }
      ]
    },
    {
      "cell_type": "code",
      "source": [
        "res.groups()[1] + res.groups()[0]"
      ],
      "metadata": {
        "colab": {
          "base_uri": "https://localhost:8080/",
          "height": 35
        },
        "id": "2Zl4HDJGapl7",
        "outputId": "f7308742-2f7e-4fa3-9eef-8f01fa04223c"
      },
      "execution_count": null,
      "outputs": [
        {
          "output_type": "execute_result",
          "data": {
            "text/plain": [
              "'year1998'"
            ],
            "application/vnd.google.colaboratory.intrinsic+json": {
              "type": "string"
            }
          },
          "metadata": {},
          "execution_count": 93
        }
      ]
    },
    {
      "cell_type": "code",
      "source": [
        "dates = 'enero-10-2010 febrero-20-2014 marzo-30-2005 diciembre-20-2004'"
      ],
      "metadata": {
        "id": "Axe__YydbrRl"
      },
      "execution_count": null,
      "outputs": []
    },
    {
      "cell_type": "code",
      "source": [
        "pattern = r'[a-z]{4,}-\\d\\d-\\d{4}'\n",
        "tokenz = re.findall(pattern, dates)"
      ],
      "metadata": {
        "id": "9FYrkManb5C0"
      },
      "execution_count": null,
      "outputs": []
    },
    {
      "cell_type": "code",
      "source": [
        "pattern = r'([a-z]{4,})-(\\d\\d)-(\\d{4})'\n",
        "dates_ = []\n",
        "for token in tokenz:\n",
        "  res = re.search(pattern, token)\n",
        "  dates_.append(res.groups()[1] + \"-\" + res.groups()[0])\n",
        "dates_"
      ],
      "metadata": {
        "colab": {
          "base_uri": "https://localhost:8080/"
        },
        "id": "eQFXBAwHc_b2",
        "outputId": "83b77cec-bb45-4d6f-ce04-1e027180e797"
      },
      "execution_count": null,
      "outputs": [
        {
          "output_type": "execute_result",
          "data": {
            "text/plain": [
              "['10-enero', '20-febrero', '30-marzo', '20-diciembre']"
            ]
          },
          "metadata": {},
          "execution_count": 96
        }
      ]
    }
  ]
}