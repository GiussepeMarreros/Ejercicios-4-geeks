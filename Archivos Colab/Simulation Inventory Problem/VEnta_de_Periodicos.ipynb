{
  "nbformat": 4,
  "nbformat_minor": 0,
  "metadata": {
    "colab": {
      "provenance": []
    },
    "kernelspec": {
      "name": "python3",
      "display_name": "Python 3"
    },
    "language_info": {
      "name": "python"
    }
  },
  "cells": [
    {
      "cell_type": "code",
      "execution_count": null,
      "metadata": {
        "id": "eVnkYhydpwO4"
      },
      "outputs": [],
      "source": [
        "# Simulation inventory problem"
      ]
    },
    {
      "cell_type": "code",
      "source": [
        "import numpy as np\n",
        "import matplotlib.pyplot as plt"
      ],
      "metadata": {
        "id": "I4WyH9VWtUaY"
      },
      "execution_count": null,
      "outputs": []
    },
    {
      "cell_type": "code",
      "source": [
        "cost  = 0.55\n",
        "price = 1\n",
        "d_min = 60\n",
        "d_max = 100"
      ],
      "metadata": {
        "id": "Eklb4BpfpzrC"
      },
      "execution_count": null,
      "outputs": []
    },
    {
      "cell_type": "code",
      "source": [
        "def profit(q, trials, d_min, d_max, price,cost):\n",
        "  profits = []\n",
        "  for i in range(trials):\n",
        "    d =  np.random.randint(d_min, d_max) # demanda\n",
        "    s =  abs(q - d) # inventario\n",
        "    income  = d*(price - cost) # ingreso total\n",
        "    if q > d:\n",
        "      profits.append( income - (s*(cost - 0.03)) ) # costo directo\n",
        "    else:\n",
        "      profits.append( income - (s*(price-cost))) # costo de oportunidad\n",
        "  return sum(profits)/len(profits)"
      ],
      "metadata": {
        "id": "YUr_7Wq0qbF0"
      },
      "execution_count": null,
      "outputs": []
    },
    {
      "cell_type": "code",
      "source": [
        "expected_profits = []\n",
        "trials  = 100000\n",
        "for q in range(d_min, d_max+1):\n",
        "  expected_profits.append(profit(q=q,\n",
        "                                 trials=trials,\n",
        "                                 d_min=d_min,\n",
        "                                 d_max=d_max,\n",
        "                                 price=price,\n",
        "                                 cost=cost))"
      ],
      "metadata": {
        "id": "iL4eXH6StPEz"
      },
      "execution_count": null,
      "outputs": []
    },
    {
      "cell_type": "code",
      "source": [
        "max_index = np.argmax(expected_profits)\n",
        "print(range(d_min, d_max+1)[max_index] , expected_profits[max_index])"
      ],
      "metadata": {
        "colab": {
          "base_uri": "https://localhost:8080/"
        },
        "id": "ZnCMSi4y483l",
        "outputId": "fc05897e-7719-422a-bbe3-9268bd8f247f"
      },
      "execution_count": null,
      "outputs": [
        {
          "output_type": "stream",
          "name": "stdout",
          "text": [
            "78 30.977121700032068\n"
          ]
        }
      ]
    },
    {
      "cell_type": "code",
      "source": [
        "expected_profits"
      ],
      "metadata": {
        "colab": {
          "base_uri": "https://localhost:8080/"
        },
        "id": "UylY4z6X5eP3",
        "outputId": "261da44e-5671-423a-8c7c-8bf436c2bc98"
      },
      "execution_count": null,
      "outputs": [
        {
          "output_type": "execute_result",
          "data": {
            "text/plain": [
              "[27.0,\n",
              " 27.425653000017817,\n",
              " 27.82706569995067,\n",
              " 28.203132300045855,\n",
              " 28.554987699977232,\n",
              " 28.888364600000273,\n",
              " 29.19481430002233,\n",
              " 29.47335709995723,\n",
              " 29.717852900041773,\n",
              " 29.94779869997332,\n",
              " 30.15741330000164,\n",
              " 30.321796800021794,\n",
              " 30.502127099961573,\n",
              " 30.636906200037664,\n",
              " 30.76492439997501,\n",
              " 30.833006300001983,\n",
              " 30.916841000021204,\n",
              " 30.931553499968114,\n",
              " 30.977121700032068,\n",
              " 30.9356129999801,\n",
              " 30.93650300000129,\n",
              " 30.826667500017727,\n",
              " 30.793083699975103,\n",
              " 30.652780500023397,\n",
              " 30.523118199986662,\n",
              " 30.302421399999727,\n",
              " 30.19822160001127,\n",
              " 30.00183299998242,\n",
              " 29.758991100013972,\n",
              " 29.537760799991716,\n",
              " 29.258117100000327,\n",
              " 28.92450260000345,\n",
              " 28.61732059999175,\n",
              " 28.255430600007703,\n",
              " 27.91853749999544,\n",
              " 27.440664600002115,\n",
              " 27.073255299998877,\n",
              " 26.632028999996272,\n",
              " 26.157221300002057,\n",
              " 25.64025739999809,\n",
              " 25.066044100002138]"
            ]
          },
          "metadata": {},
          "execution_count": 44
        }
      ]
    },
    {
      "cell_type": "code",
      "source": [
        "plt.plot(range(d_min, d_max+1), expected_profits )"
      ],
      "metadata": {
        "colab": {
          "base_uri": "https://localhost:8080/",
          "height": 447
        },
        "id": "g1UKrFiSzGCf",
        "outputId": "83c5b673-7675-4288-b0ed-4f1c5cb90f20"
      },
      "execution_count": null,
      "outputs": [
        {
          "output_type": "execute_result",
          "data": {
            "text/plain": [
              "[<matplotlib.lines.Line2D at 0x79a1a8bc4f70>]"
            ]
          },
          "metadata": {},
          "execution_count": 45
        },
        {
          "output_type": "display_data",
          "data": {
            "text/plain": [
              "<Figure size 640x480 with 1 Axes>"
            ],
            "image/png": "[encoded data removed]"
          },
          "metadata": {}
        }
      ]
    }
  ]
}