{
 "cells": [
  {
   "cell_type": "code",
   "execution_count": 1,
   "metadata": {
    "id": "i9BYktdqvH68"
   },
   "outputs": [],
   "source": [
    "incomes = [10,20, 40, 8, 2]"
   ]
  },
  {
   "cell_type": "code",
   "execution_count": 2,
   "metadata": {
    "id": "LwGKm9_32VR9"
   },
   "outputs": [],
   "source": [
    "import numpy as np\n",
    "import matplotlib.pyplot as plt"
   ]
  },
  {
   "cell_type": "code",
   "execution_count": 3,
   "metadata": {
    "id": "Q4AgfRWEvSl-"
   },
   "outputs": [],
   "source": [
    "def mean(incomes):\n",
    "  acum, n = 0, 0\n",
    "  for i in incomes:\n",
    "    acum = acum +i\n",
    "    n = n +1\n",
    "  return acum/n"
   ]
  },
  {
   "cell_type": "code",
   "execution_count": 4,
   "metadata": {
    "id": "XJhjIYGrwNTs"
   },
   "outputs": [],
   "source": [
    "def std(incomes, sampling=False):\n",
    "  promedio = mean(incomes)\n",
    "  n = len(incomes)\n",
    "  acum = 0\n",
    "  for i in incomes:\n",
    "    acum = acum + (i - promedio)**2\n",
    "  if sampling == False:\n",
    "    return (acum/n)**(1/2)\n",
    "  else:\n",
    "    return (acum/(n-1))**(1/2)"
   ]
  },
  {
   "cell_type": "code",
   "execution_count": 5,
   "metadata": {
    "colab": {
     "base_uri": "https://localhost:8080/"
    },
    "executionInfo": {
     "elapsed": 4,
     "status": "ok",
     "timestamp": 1730337828802,
     "user": {
      "displayName": "ivan trujillo",
      "userId": "14009131106819772515"
     },
     "user_tz": 300
    },
    "id": "MgLcUfbwxmNS",
    "outputId": "7f65dda0-76f5-4bfe-fe74-c49506a108b9"
   },
   "outputs": [
    {
     "data": {
      "text/plain": [
       "(16.0, 13.326664999166145)"
      ]
     },
     "execution_count": 5,
     "metadata": {},
     "output_type": "execute_result"
    }
   ],
   "source": [
    "mean(incomes), std(incomes)"
   ]
  },
  {
   "cell_type": "code",
   "execution_count": 6,
   "metadata": {
    "id": "6xefVHCR1Wa0"
   },
   "outputs": [],
   "source": [
    "# peso de perros\n",
    "pop = [2, 34, 22, 8, 10, 44,\n",
    "       2.4, 3.1, 27, 12, 34,\n",
    "       41, 7, 8 ,10,\n",
    "       12.4, 12.7, 13, 7.4,\n",
    "       5.6, 8.9, 12.34,\n",
    "       31.4, 5.89, 9.1, 12.4,\n",
    "       12.3 , 4.5, 8.76, 8.13,\n",
    "       21.4, 22.1, 15.6]\n"
   ]
  },
  {
   "cell_type": "code",
   "execution_count": 7,
   "metadata": {
    "colab": {
     "base_uri": "https://localhost:8080/"
    },
    "executionInfo": {
     "elapsed": 3,
     "status": "ok",
     "timestamp": 1730337828802,
     "user": {
      "displayName": "ivan trujillo",
      "userId": "14009131106819772515"
     },
     "user_tz": 300
    },
    "id": "fIVli39t2gDL",
    "outputId": "16741878-107f-448f-94a1-bd2bd0915bc4"
   },
   "outputs": [
    {
     "data": {
      "text/plain": [
       "(14.800606060606057, 11.03223951532959)"
      ]
     },
     "execution_count": 7,
     "metadata": {},
     "output_type": "execute_result"
    }
   ],
   "source": [
    "mean(pop), std(pop)"
   ]
  },
  {
   "cell_type": "code",
   "execution_count": 8,
   "metadata": {
    "id": "Tss1X0Ks87EF"
   },
   "outputs": [],
   "source": [
    "trials = 100000\n",
    "means = []\n",
    "stds = []\n",
    "stds_1 = []\n",
    "for _ in range(trials):\n",
    "  sample = np.random.choice(pop, size=15)\n",
    "  means.append(mean(sample))\n",
    "  stds.append(std(sample))\n",
    "  stds_1.append(std(sample, sampling=True))"
   ]
  },
  {
   "cell_type": "code",
   "execution_count": 9,
   "metadata": {
    "colab": {
     "base_uri": "https://localhost:8080/"
    },
    "executionInfo": {
     "elapsed": 3,
     "status": "ok",
     "timestamp": 1730337837073,
     "user": {
      "displayName": "ivan trujillo",
      "userId": "14009131106819772515"
     },
     "user_tz": 300
    },
    "id": "xAHVqGoc9Swn",
    "outputId": "5750ea90-45cd-44e7-f9b6-b67d443a1054"
   },
   "outputs": [
    {
     "data": {
      "text/plain": [
       "(np.float64(14.788401786666524),\n",
       " np.float64(10.387196106740648),\n",
       " np.float64(10.751769437094897))"
      ]
     },
     "execution_count": 9,
     "metadata": {},
     "output_type": "execute_result"
    }
   ],
   "source": [
    "mean(means), mean(stds), mean(stds_1)"
   ]
  },
  {
   "cell_type": "code",
   "execution_count": null,
   "metadata": {
    "id": "ox9D9WI5IxXC"
   },
   "outputs": [],
   "source": []
  },
  {
   "cell_type": "code",
   "execution_count": 10,
   "metadata": {
    "id": "MbVbVVz7IybA"
   },
   "outputs": [],
   "source": [
    "pop_size = 1000\n",
    "mu, sigma   =  165.0, 97.65"
   ]
  },
  {
   "cell_type": "code",
   "execution_count": 11,
   "metadata": {
    "id": "OvYkaP8UI4RR"
   },
   "outputs": [],
   "source": [
    "pop = np.random.normal(loc = mu, scale = sigma , size=pop_size )"
   ]
  },
  {
   "cell_type": "code",
   "execution_count": 12,
   "metadata": {
    "id": "gynCr4OLJEw4"
   },
   "outputs": [],
   "source": [
    "trials  = 99999\n",
    "sample_size = 10\n",
    "biased, unbiased  =  [],[]\n",
    "for _ in range(trials):\n",
    "  sample = np.random.choice(pop, sample_size, replace=False)\n",
    "  biased.append(sample.std(ddof=0)) # Divide by n\n",
    "  unbiased.append(sample.std(ddof=1)) # divided by N-1"
   ]
  },
  {
   "cell_type": "code",
   "execution_count": 13,
   "metadata": {
    "colab": {
     "base_uri": "https://localhost:8080/"
    },
    "executionInfo": {
     "elapsed": 3,
     "status": "ok",
     "timestamp": 1730337849474,
     "user": {
      "displayName": "ivan trujillo",
      "userId": "14009131106819772515"
     },
     "user_tz": 300
    },
    "id": "DStW-lGhJyVf",
    "outputId": "b744af93-d3ba-4e40-c254-7764907a657f"
   },
   "outputs": [
    {
     "data": {
      "text/plain": [
       "(np.float64(88.86507774698126), np.float64(93.67201670946834))"
      ]
     },
     "execution_count": 13,
     "metadata": {},
     "output_type": "execute_result"
    }
   ],
   "source": [
    "np.array(biased).mean(), np.array(unbiased).mean()"
   ]
  },
  {
   "cell_type": "code",
   "execution_count": 14,
   "metadata": {
    "colab": {
     "base_uri": "https://localhost:8080/",
     "height": 534
    },
    "executionInfo": {
     "elapsed": 709,
     "status": "ok",
     "timestamp": 1730337850182,
     "user": {
      "displayName": "ivan trujillo",
      "userId": "14009131106819772515"
     },
     "user_tz": 300
    },
    "id": "oLLtbKejJz7j",
    "outputId": "7a1ce036-2242-4bf4-c693-4932ffc14fc0"
   },
   "outputs": [
    {
     "data": {
      "text/plain": [
       "(array([1.0100e+02, 2.7740e+03, 1.4567e+04, 2.8889e+04, 2.9702e+04,\n",
       "        1.7063e+04, 5.6910e+03, 1.1110e+03, 9.7000e+01, 4.0000e+00]),\n",
       " array([ 16.09233495,  34.7618181 ,  53.43130125,  72.1007844 ,\n",
       "         90.77026755, 109.4397507 , 128.10923384, 146.77871699,\n",
       "        165.44820014, 184.11768329, 202.78716644]),\n",
       " <BarContainer object of 10 artists>)"
      ]
     },
     "execution_count": 14,
     "metadata": {},
     "output_type": "execute_result"
    },
    {
     "data": {
      "image/png": "[encoded data removed]",
      "text/plain": [
       "<Figure size 640x480 with 1 Axes>"
      ]
     },
     "metadata": {},
     "output_type": "display_data"
    }
   ],
   "source": [
    "plt.hist(unbiased)"
   ]
  }
 ],
 "metadata": {
  "colab": {
   "provenance": [
    {
     "file_id": "1rGJxkWpFg3YYS8V3OfySOtHwoIxtsNi8",
     "timestamp": 1730337896402
    }
   ]
  },
  "kernelspec": {
   "display_name": "Python 3",
   "name": "python3"
  },
  "language_info": {
   "codemirror_mode": {
    "name": "ipython",
    "version": 3
   },
   "file_extension": ".py",
   "mimetype": "text/x-python",
   "name": "python",
   "nbconvert_exporter": "python",
   "pygments_lexer": "ipython3",
   "version": "3.10.12"
  }
 },
 "nbformat": 4,
 "nbformat_minor": 0
}
