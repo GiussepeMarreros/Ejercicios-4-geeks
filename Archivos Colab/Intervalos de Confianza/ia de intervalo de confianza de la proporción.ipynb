{
 "cells": [
  {
   "cell_type": "code",
   "execution_count": null,
   "metadata": {
    "id": "nrSQfkXCKXfD"
   },
   "outputs": [],
   "source": [
    "import numpy as np\n",
    "from scipy.stats import norm"
   ]
  },
  {
   "cell_type": "markdown",
   "metadata": {},
   "source": [
    "empresas que se encuentran en la quiebra"
   ]
  },
  {
   "cell_type": "code",
   "execution_count": null,
   "metadata": {
    "id": "cGuXmLR4KaNm"
   },
   "outputs": [],
   "source": [
    "empresas = [1,0,0,0,0,0,0,0,0,0,\n",
    "            00,0,0,0,0,0,1,1,1,1,1,0,0,0,1\n",
    "            ,1,0,0,0,0,1,1,1,1,0,0,0,0,0,0,0\n",
    "            ,0,0,0,0,0,\n",
    "            0,0,0,0,0,1,1,1,0,0,]"
   ]
  },
  {
   "cell_type": "code",
   "execution_count": null,
   "metadata": {
    "colab": {
     "base_uri": "https://localhost:8080/"
    },
    "executionInfo": {
     "elapsed": 16,
     "status": "ok",
     "timestamp": 1731548953101,
     "user": {
      "displayName": "José Coello",
      "userId": "13339748018624665067"
     },
     "user_tz": 180
    },
    "id": "3YNWxOT2KnOr",
    "outputId": "b65e7a15-a11b-4b89-f5fe-9f00a51d0424"
   },
   "outputs": [
    {
     "data": {
      "text/plain": [
       "56"
      ]
     },
     "execution_count": 116,
     "metadata": {},
     "output_type": "execute_result"
    }
   ],
   "source": [
    "n = len(empresas)\n",
    "n"
   ]
  },
  {
   "cell_type": "code",
   "execution_count": null,
   "metadata": {
    "colab": {
     "base_uri": "https://localhost:8080/"
    },
    "executionInfo": {
     "elapsed": 15,
     "status": "ok",
     "timestamp": 1731548953102,
     "user": {
      "displayName": "José Coello",
      "userId": "13339748018624665067"
     },
     "user_tz": 180
    },
    "id": "62g6ziiLKrSO",
    "outputId": "3ac8eeb9-c277-4bae-96ad-eb89020e891e"
   },
   "outputs": [
    {
     "data": {
      "text/plain": [
       "0.26785714285714285"
      ]
     },
     "execution_count": 117,
     "metadata": {},
     "output_type": "execute_result"
    }
   ],
   "source": [
    "P = sum(empresas)/len(empresas)\n",
    "P"
   ]
  },
  {
   "cell_type": "code",
   "execution_count": null,
   "metadata": {
    "colab": {
     "base_uri": "https://localhost:8080/"
    },
    "executionInfo": {
     "elapsed": 2655,
     "status": "ok",
     "timestamp": 1731548955746,
     "user": {
      "displayName": "José Coello",
      "userId": "13339748018624665067"
     },
     "user_tz": 180
    },
    "id": "FdjzHoqILO8G",
    "outputId": "cf87530a-8363-4aa0-8adf-069e754d56e7"
   },
   "outputs": [
    {
     "name": "stdout",
     "output_type": "stream",
     "text": [
      "media 0.2679033333333334\n",
      "desviacion standard 0.11447941877133296\n"
     ]
    }
   ],
   "source": [
    "trials=100000\n",
    "pr=[]\n",
    "n2=15\n",
    "for _ in range (trials):\n",
    "  p=np.random.choice(empresas, n2).mean()\n",
    "  pr.append(p)\n",
    "\n",
    "pr_mean = (np.mean(pr))\n",
    "pr_std = (np.std(pr))\n",
    "print(\"media\",pr_mean)\n",
    "print(\"desviacion standard\",pr_std)"
   ]
  },
  {
   "cell_type": "code",
   "execution_count": null,
   "metadata": {
    "colab": {
     "base_uri": "https://localhost:8080/"
    },
    "executionInfo": {
     "elapsed": 35,
     "status": "ok",
     "timestamp": 1731548955747,
     "user": {
      "displayName": "José Coello",
      "userId": "13339748018624665067"
     },
     "user_tz": 180
    },
    "id": "oYKZpcHUM2OM",
    "outputId": "a991a94a-3196-4d7f-99aa-b311a040b0af"
   },
   "outputs": [
    {
     "name": "stdout",
     "output_type": "stream",
     "text": [
      "intervalo de confianza mayor: 0.3838972815388516\n",
      "intervalo de confianza menor: 0.15190938512781516\n"
     ]
    }
   ],
   "source": [
    "icp_menor = pr_mean - 1.96 * ((pr_mean*(1-pr_mean))/n)**0.5\n",
    "icp_mayor = pr_mean + 1.96 * ((pr_mean*(1-pr_mean))/n)**0.5\n",
    "\n",
    "\n",
    "print(\"intervalo de confianza mayor:\",icp_mayor)\n",
    "print(\"intervalo de confianza menor:\",icp_menor)\n",
    "\n",
    "\n",
    "\n"
   ]
  },
  {
   "cell_type": "code",
   "execution_count": null,
   "metadata": {
    "colab": {
     "base_uri": "https://localhost:8080/",
     "height": 141
    },
    "executionInfo": {
     "elapsed": 34,
     "status": "error",
     "timestamp": 1731548955749,
     "user": {
      "displayName": "José Coello",
      "userId": "13339748018624665067"
     },
     "user_tz": 180
    },
    "id": "lm5hAj_BRaQe",
    "outputId": "fada16fc-61e9-4b31-ed1f-5c724557adc6"
   },
   "outputs": [
    {
     "ename": "NameError",
     "evalue": "name 'proportion_confint' is not defined",
     "output_type": "error",
     "traceback": [
      "\u001b[0;31m---------------------------------------------------------------------------\u001b[0m",
      "\u001b[0;31mNameError\u001b[0m                                 Traceback (most recent call last)",
      "\u001b[0;32m<ipython-input-120-4157861cd866>\u001b[0m in \u001b[0;36m<cell line: 1>\u001b[0;34m()\u001b[0m\n\u001b[0;32m----> 1\u001b[0;31m \u001b[0mproportion_confint\u001b[0m\u001b[0;34m(\u001b[0m\u001b[0mconfidence\u001b[0m\u001b[0;34m=\u001b[0m\u001b[0;36m0.95\u001b[0m\u001b[0;34m,\u001b[0m \u001b[0mloc\u001b[0m\u001b[0;34m=\u001b[0m\u001b[0mpr_mean\u001b[0m\u001b[0;34m,\u001b[0m \u001b[0mscale\u001b[0m\u001b[0;34m=\u001b[0m\u001b[0;34m(\u001b[0m\u001b[0mpr_std\u001b[0m \u001b[0;34m/\u001b[0m \u001b[0;34m(\u001b[0m\u001b[0mn\u001b[0m\u001b[0;34m)\u001b[0m\u001b[0;34m**\u001b[0m\u001b[0;36m0.5\u001b[0m\u001b[0;34m)\u001b[0m \u001b[0;34m)\u001b[0m\u001b[0;34m\u001b[0m\u001b[0;34m\u001b[0m\u001b[0m\n\u001b[0m",
      "\u001b[0;31mNameError\u001b[0m: name 'proportion_confint' is not defined"
     ]
    }
   ],
   "source": [
    "\n",
    "proportion_confint(confidence=0.95, loc=pr_mean, scale=(pr_std / (n)**0.5) )"
   ]
  },
  {
   "cell_type": "code",
   "execution_count": null,
   "metadata": {
    "id": "E7IoqqaTVeTQ"
   },
   "outputs": [],
   "source": [
    "proportion_confint(confidence=0.95, loc=pr_mean, scale=(pr_std / (n2)**0.5) )"
   ]
  },
  {
   "cell_type": "code",
   "execution_count": null,
   "metadata": {
    "id": "kMXAx3QFV9Ry"
   },
   "outputs": [],
   "source": [
    "norm.interval(confidence=0.95, loc=(np.mean(empresas)), scale=(np.std(empresas) / (n)**0.5) )"
   ]
  },
  {
   "cell_type": "code",
   "execution_count": null,
   "metadata": {
    "id": "9wswYx0DWIx-"
   },
   "outputs": [],
   "source": []
  }
 ],
 "metadata": {
  "colab": {
   "provenance": [
    {
     "file_id": "1or2JfuKxYGJbhmyY2JCgWCd-YlAvI5Wg",
     "timestamp": 1731549055781
    },
    {
     "file_id": "14gf0Rw8T4jwA857ae4i-r-Tur0cZYmPA",
     "timestamp": 1731546358888
    }
   ]
  },
  "kernelspec": {
   "display_name": "Python 3",
   "name": "python3"
  },
  "language_info": {
   "name": "python"
  }
 },
 "nbformat": 4,
 "nbformat_minor": 0
}
