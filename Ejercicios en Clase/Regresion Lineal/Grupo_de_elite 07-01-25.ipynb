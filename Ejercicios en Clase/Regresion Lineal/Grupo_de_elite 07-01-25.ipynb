{
  "nbformat": 4,
  "nbformat_minor": 0,
  "metadata": {
    "colab": {
      "provenance": []
    },
    "kernelspec": {
      "name": "python3",
      "display_name": "Python 3"
    },
    "language_info": {
      "name": "python"
    }
  },
  "cells": [
    {
      "cell_type": "code",
      "execution_count": null,
      "metadata": {
        "id": "z300dCHqCsDt"
      },
      "outputs": [],
      "source": [
        "import numpy as np\n",
        "import matplotlib.pyplot as plt"
      ]
    },
    {
      "cell_type": "code",
      "source": [
        "def linear(b1,x):\n",
        "  b0 = 0\n",
        "  return b0 + b1*x"
      ],
      "metadata": {
        "id": "MHRbN44aDKRi"
      },
      "execution_count": null,
      "outputs": []
    },
    {
      "cell_type": "code",
      "source": [
        "X = np.linspace(100, 800, 100)"
      ],
      "metadata": {
        "id": "BygXa9r2DVUI"
      },
      "execution_count": null,
      "outputs": []
    },
    {
      "cell_type": "code",
      "source": [
        "b1 = 761.861\n",
        "y = [linear(b1, x) + np.random.normal(loc=100, scale=900) for x in X]"
      ],
      "metadata": {
        "id": "3ftFE_GIDpdI"
      },
      "execution_count": null,
      "outputs": []
    },
    {
      "cell_type": "code",
      "source": [
        "plt.scatter(X,y)"
      ],
      "metadata": {
        "colab": {
          "base_uri": "https://localhost:8080/",
          "height": 447
        },
        "id": "Y0c-LHUkDzvX",
        "outputId": "f416ff65-8714-420f-9696-1d2ee2e9bbba"
      },
      "execution_count": null,
      "outputs": [
        {
          "output_type": "execute_result",
          "data": {
            "text/plain": [
              "<matplotlib.collections.PathCollection at 0x7c47589a5690>"
            ]
          },
          "metadata": {},
          "execution_count": 74
        },
        {
          "output_type": "display_data",
          "data": {
            "text/plain": [
              "<Figure size 640x480 with 1 Axes>"
            ],
            "image/png": "[encoded data removed]"
          },
          "metadata": {}
        }
      ]
    },
    {
      "cell_type": "code",
      "source": [
        "X"
      ],
      "metadata": {
        "colab": {
          "base_uri": "https://localhost:8080/"
        },
        "id": "qYwldeBsEooy",
        "outputId": "9a836185-eb3a-4327-a74d-d2c91f736bce"
      },
      "execution_count": null,
      "outputs": [
        {
          "output_type": "execute_result",
          "data": {
            "text/plain": [
              "array([100.        , 107.07070707, 114.14141414, 121.21212121,\n",
              "       128.28282828, 135.35353535, 142.42424242, 149.49494949,\n",
              "       156.56565657, 163.63636364, 170.70707071, 177.77777778,\n",
              "       184.84848485, 191.91919192, 198.98989899, 206.06060606,\n",
              "       213.13131313, 220.2020202 , 227.27272727, 234.34343434,\n",
              "       241.41414141, 248.48484848, 255.55555556, 262.62626263,\n",
              "       269.6969697 , 276.76767677, 283.83838384, 290.90909091,\n",
              "       297.97979798, 305.05050505, 312.12121212, 319.19191919,\n",
              "       326.26262626, 333.33333333, 340.4040404 , 347.47474747,\n",
              "       354.54545455, 361.61616162, 368.68686869, 375.75757576,\n",
              "       382.82828283, 389.8989899 , 396.96969697, 404.04040404,\n",
              "       411.11111111, 418.18181818, 425.25252525, 432.32323232,\n",
              "       439.39393939, 446.46464646, 453.53535354, 460.60606061,\n",
              "       467.67676768, 474.74747475, 481.81818182, 488.88888889,\n",
              "       495.95959596, 503.03030303, 510.1010101 , 517.17171717,\n",
              "       524.24242424, 531.31313131, 538.38383838, 545.45454545,\n",
              "       552.52525253, 559.5959596 , 566.66666667, 573.73737374,\n",
              "       580.80808081, 587.87878788, 594.94949495, 602.02020202,\n",
              "       609.09090909, 616.16161616, 623.23232323, 630.3030303 ,\n",
              "       637.37373737, 644.44444444, 651.51515152, 658.58585859,\n",
              "       665.65656566, 672.72727273, 679.7979798 , 686.86868687,\n",
              "       693.93939394, 701.01010101, 708.08080808, 715.15151515,\n",
              "       722.22222222, 729.29292929, 736.36363636, 743.43434343,\n",
              "       750.50505051, 757.57575758, 764.64646465, 771.71717172,\n",
              "       778.78787879, 785.85858586, 792.92929293, 800.        ])"
            ]
          },
          "metadata": {},
          "execution_count": 75
        }
      ]
    },
    {
      "cell_type": "code",
      "source": [
        "def cost(y_hat, y):\n",
        "  acum = 0\n",
        "  domian = len(y)\n",
        "  for i in range(domian):\n",
        "    acum = acum + (y_hat[i] - y[i])**2\n",
        "  return acum"
      ],
      "metadata": {
        "id": "e76eiOU4Fbsz"
      },
      "execution_count": null,
      "outputs": []
    },
    {
      "cell_type": "code",
      "source": [
        "cost([10.1,32.4], [10, 32])"
      ],
      "metadata": {
        "colab": {
          "base_uri": "https://localhost:8080/"
        },
        "id": "6NJS088uGDXt",
        "outputId": "17dddc37-0258-41b6-d4e7-2ca58bd42f39"
      },
      "execution_count": null,
      "outputs": [
        {
          "output_type": "execute_result",
          "data": {
            "text/plain": [
              "0.1699999999999988"
            ]
          },
          "metadata": {},
          "execution_count": 77
        }
      ]
    },
    {
      "cell_type": "code",
      "source": [
        "def dcost(X, y, b1):\n",
        "  domain = len(y)\n",
        "  acum = 0\n",
        "  for i in range(domain):\n",
        "    acum = acum + X[i] * (b1*X[i] - y[i])\n",
        "  return (acum)/domain"
      ],
      "metadata": {
        "id": "6o0Bo-HYLlxw"
      },
      "execution_count": null,
      "outputs": []
    },
    {
      "cell_type": "markdown",
      "source": [],
      "metadata": {
        "id": "oPi7HOG8T_st"
      }
    },
    {
      "cell_type": "code",
      "source": [
        "b1_ = 0\n",
        "alpha=0.000001\n",
        "iterations = 1000\n",
        "for _ in range(iterations):\n",
        "  b1_ = b1_ - dcost(X,y,b1_) * alpha # método iterativo GDS\n",
        "print(b1_)\n",
        "\n",
        "def b1(X,y):\n",
        "  #OLS\n",
        "  return (np.cov(X,y)/np.var(X, ddof=1))[0][1] # Formula analítica OLS\n",
        "b1(X,y)"
      ],
      "metadata": {
        "colab": {
          "base_uri": "https://localhost:8080/"
        },
        "id": "i9hfsKN6W-7X",
        "outputId": "f0f6fadc-6a7d-4d57-a1ef-be910baf2172"
      },
      "execution_count": null,
      "outputs": [
        {
          "output_type": "stream",
          "name": "stdout",
          "text": [
            "762.3086017360808\n"
          ]
        },
        {
          "output_type": "execute_result",
          "data": {
            "text/plain": [
              "762.7612449380487"
            ]
          },
          "metadata": {},
          "execution_count": 79
        }
      ]
    },
    {
      "cell_type": "code",
      "source": [
        "import numpy as np\n",
        "import statsmodels.api as sm\n",
        "mod = sm.OLS(np.array(y), np.array(X))\n",
        "res = mod.fit()\n",
        "print(res.summary())"
      ],
      "metadata": {
        "colab": {
          "base_uri": "https://localhost:8080/"
        },
        "id": "bTiOcuPNYFY7",
        "outputId": "07bcb6e2-8f4e-417d-8dca-ecbdb40d57b7"
      },
      "execution_count": null,
      "outputs": [
        {
          "output_type": "stream",
          "name": "stdout",
          "text": [
            "                                 OLS Regression Results                                \n",
            "=======================================================================================\n",
            "Dep. Variable:                      y   R-squared (uncentered):                   1.000\n",
            "Model:                            OLS   Adj. R-squared (uncentered):              1.000\n",
            "Method:                 Least Squares   F-statistic:                          1.972e+07\n",
            "Date:                Tue, 07 Jan 2025   Prob (F-statistic):                   3.85e-264\n",
            "Time:                        01:30:03   Log-Likelihood:                         -815.70\n",
            "No. Observations:                 100   AIC:                                      1633.\n",
            "Df Residuals:                      99   BIC:                                      1636.\n",
            "Df Model:                           1                                                  \n",
            "Covariance Type:            nonrobust                                                  \n",
            "==============================================================================\n",
            "                 coef    std err          t      P>|t|      [0.025      0.975]\n",
            "------------------------------------------------------------------------------\n",
            "x1           762.3086      0.172   4441.059      0.000     761.968     762.649\n",
            "==============================================================================\n",
            "Omnibus:                        2.055   Durbin-Watson:                   1.718\n",
            "Prob(Omnibus):                  0.358   Jarque-Bera (JB):                1.634\n",
            "Skew:                          -0.307   Prob(JB):                        0.442\n",
            "Kurtosis:                       3.125   Cond. No.                         1.00\n",
            "==============================================================================\n",
            "\n",
            "Notes:\n",
            "[1] R² is computed without centering (uncentered) since the model does not contain a constant.\n",
            "[2] Standard Errors assume that the covariance matrix of the errors is correctly specified.\n"
          ]
        }
      ]
    }
  ]
}