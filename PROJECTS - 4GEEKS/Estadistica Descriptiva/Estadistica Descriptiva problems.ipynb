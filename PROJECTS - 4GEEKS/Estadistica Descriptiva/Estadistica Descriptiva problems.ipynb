{
 "cells": [
  {
   "cell_type": "markdown",
   "id": "ac622319",
   "metadata": {},
   "source": [
    "# Descriptive statistics problems"
   ]
  },
  {
   "cell_type": "markdown",
   "id": "5e0ab0d5",
   "metadata": {},
   "source": [
    "### Exercise 1\n",
    "\n",
    "We will use NumPy to obtain information to describe statistically.\n",
    "\n",
    "- Generate an array of 100 elements following a normal distribution.\n",
    "- Generate an array of 100 elements following a chi-square distribution with 3 degrees of freedom.\n",
    "- Calculate the main metrics and statistical measures that best describe the two vectors."
   ]
  },
  {
   "cell_type": "code",
   "execution_count": 1,
   "id": "34720ab6",
   "metadata": {},
   "outputs": [
    {
     "data": {
      "text/plain": [
       "array([60.84119864, 27.99743603, 73.23314811, 46.96034182, 63.08199972,\n",
       "       24.31259251, 38.36114199, 36.04089941, 44.20453805, 33.7917166 ,\n",
       "       18.74083727, 45.77083737, 36.24266811, 70.0372911 , 42.95014353,\n",
       "       26.12593656, 60.73380239, 46.36718769, 27.65242909, 49.03489175,\n",
       "       48.78905072, 38.50979469, 32.51406476, 54.3397813 , 51.84103535,\n",
       "       57.3876348 , 51.80927499, 69.69696126, 33.22887283, 57.47634622,\n",
       "       52.56470528, 40.69770012, 38.90283912, 46.76721918, 28.09226582,\n",
       "       44.94673541, 50.13612955, 68.03167854, 27.36148729, 63.12402035,\n",
       "       52.73242236, 34.82691862, 37.32166788, 32.77661648, 44.3632753 ,\n",
       "       45.71572527, 37.7975752 , 47.62363415, 26.60488376, 58.13375331,\n",
       "       42.83125793, 62.12761334, 42.62793857, 31.58796381, 51.35874495,\n",
       "       17.17615433, 44.83669662, 54.92133334, 33.95428854, 12.02387285,\n",
       "       51.06310363, 68.03701857, 41.41704472, 39.82928047, 39.59951637,\n",
       "       75.52870057, 63.37009108, 76.38120005, 62.5190835 , 54.63823287,\n",
       "       44.22409533, 43.85292526, 70.4711702 , 38.68840897, 46.72269432,\n",
       "       53.44359175, 51.47579993, 66.8334955 , 57.64230309, 41.65537845,\n",
       "       51.0759067 , 46.5110768 , 35.62381646, 57.08741491, 45.12766066,\n",
       "       55.84876918, 49.6468029 , 34.97315897, 39.15414229, 39.39120498,\n",
       "       25.64972141, 52.57302489, 42.17350872, 65.34657115, 39.3357733 ,\n",
       "       38.36919922, 63.19948927, 63.38882288, 45.04224832, 37.46206898])"
      ]
     },
     "execution_count": 1,
     "metadata": {},
     "output_type": "execute_result"
    }
   ],
   "source": [
    "# TODO\n",
    "import numpy as np\n",
    "import random\n",
    "\n",
    "array1 = np.random.normal(45,15,100)\n",
    "array1"
   ]
  },
  {
   "cell_type": "code",
   "execution_count": 2,
   "id": "ac4b4b9d",
   "metadata": {},
   "outputs": [
    {
     "data": {
      "text/plain": [
       "array([ 2.97661366,  3.22454786,  1.21154944,  1.06915933,  3.10276649,\n",
       "       13.1828875 ,  3.19718893,  5.39757881,  0.88867339,  1.12995457,\n",
       "        2.91511895,  3.88762381,  0.4504566 ,  2.43763473,  1.22662978,\n",
       "        2.14025547,  1.64008801,  1.98236952,  3.71722308,  0.93730286,\n",
       "        5.3309372 ,  5.116545  ,  7.50970454,  1.51807939,  0.6151354 ,\n",
       "        0.88248702,  3.32668569,  0.22756417,  0.59628133,  0.39064458,\n",
       "        4.29434039,  1.21101505,  0.45414602,  0.36424834,  1.63481103,\n",
       "        3.53627692,  4.04619465,  0.38062986,  4.87575762,  2.31272835,\n",
       "        1.32117266,  1.22628818,  4.46203405,  9.13471629,  5.92318761,\n",
       "        2.29397752,  0.99900432,  2.89570872,  0.79615286,  1.62056659,\n",
       "        2.41543218,  1.94527729,  4.21610909,  3.86940857,  0.41514215,\n",
       "        2.12805502,  3.42033356,  0.76020335,  1.8906366 ,  0.7083112 ,\n",
       "        0.8598227 ,  2.36045374,  4.39155278,  0.42445025,  1.24745389,\n",
       "        0.53003523,  1.01296984,  1.44521056,  4.97868661,  1.83605195,\n",
       "        3.69251469,  1.22859946,  1.16493036,  3.78709514,  0.36659868,\n",
       "        6.39098481,  1.71076639,  0.85592964,  2.32708415,  2.55356561,\n",
       "        2.67809442,  2.99445482,  2.49101394,  0.76649255,  1.72016822,\n",
       "        3.07253942,  1.83970238,  2.08052188, 10.90854558,  3.77873974,\n",
       "        4.67148249,  3.00542523,  0.75474122,  3.17501232,  0.4043603 ,\n",
       "        4.47461971,  1.32192899, 11.83609072,  1.5581365 , 10.93684821])"
      ]
     },
     "execution_count": 2,
     "metadata": {},
     "output_type": "execute_result"
    }
   ],
   "source": [
    "array2=np.random.chisquare(3,100)\n",
    "array2"
   ]
  },
  {
   "cell_type": "code",
   "execution_count": 3,
   "id": "150e6cb3",
   "metadata": {},
   "outputs": [
    {
     "data": {
      "text/plain": [
       "(array([1., 0., 0., 0., 0., 0., 0., 0., 1., 0., 1., 0., 0., 0., 0., 0., 0.,\n",
       "        0., 0., 1., 0., 2., 1., 1., 3., 0., 0., 0., 0., 0., 1., 1., 2., 1.,\n",
       "        1., 2., 1., 2., 0., 2., 3., 3., 4., 1., 1., 1., 2., 2., 1., 1., 4.,\n",
       "        3., 2., 4., 1., 1., 0., 2., 1., 1., 2., 4., 1., 2., 1., 1., 2., 0.,\n",
       "        1., 0., 4., 1., 0., 0., 0., 2., 0., 1., 1., 5., 0., 0., 1., 0., 0.,\n",
       "        1., 0., 2., 0., 1., 2., 0., 0., 0., 0., 1., 0., 0., 1., 1.]),\n",
       " array([12.02387285, 12.66744612, 13.31101939, 13.95459266, 14.59816594,\n",
       "        15.24173921, 15.88531248, 16.52888575, 17.17245902, 17.8160323 ,\n",
       "        18.45960557, 19.10317884, 19.74675211, 20.39032538, 21.03389866,\n",
       "        21.67747193, 22.3210452 , 22.96461847, 23.60819174, 24.25176501,\n",
       "        24.89533829, 25.53891156, 26.18248483, 26.8260581 , 27.46963137,\n",
       "        28.11320465, 28.75677792, 29.40035119, 30.04392446, 30.68749773,\n",
       "        31.33107101, 31.97464428, 32.61821755, 33.26179082, 33.90536409,\n",
       "        34.54893737, 35.19251064, 35.83608391, 36.47965718, 37.12323045,\n",
       "        37.76680373, 38.410377  , 39.05395027, 39.69752354, 40.34109681,\n",
       "        40.98467009, 41.62824336, 42.27181663, 42.9153899 , 43.55896317,\n",
       "        44.20253645, 44.84610972, 45.48968299, 46.13325626, 46.77682953,\n",
       "        47.42040281, 48.06397608, 48.70754935, 49.35112262, 49.99469589,\n",
       "        50.63826917, 51.28184244, 51.92541571, 52.56898898, 53.21256225,\n",
       "        53.85613553, 54.4997088 , 55.14328207, 55.78685534, 56.43042861,\n",
       "        57.07400189, 57.71757516, 58.36114843, 59.0047217 , 59.64829497,\n",
       "        60.29186825, 60.93544152, 61.57901479, 62.22258806, 62.86616133,\n",
       "        63.50973461, 64.15330788, 64.79688115, 65.44045442, 66.08402769,\n",
       "        66.72760097, 67.37117424, 68.01474751, 68.65832078, 69.30189405,\n",
       "        69.94546733, 70.5890406 , 71.23261387, 71.87618714, 72.51976041,\n",
       "        73.16333369, 73.80690696, 74.45048023, 75.0940535 , 75.73762677,\n",
       "        76.38120005]),\n",
       " <BarContainer object of 100 artists>)"
      ]
     },
     "execution_count": 3,
     "metadata": {},
     "output_type": "execute_result"
    },
    {
     "data": {
      "image/png": "[encoded data removed]",
      "text/plain": [
       "<Figure size 640x480 with 1 Axes>"
      ]
     },
     "metadata": {},
     "output_type": "display_data"
    }
   ],
   "source": [
    "import matplotlib.pyplot as plt\n",
    "plt.hist(array1,bins=100)"
   ]
  },
  {
   "cell_type": "code",
   "execution_count": 4,
   "id": "38797680",
   "metadata": {},
   "outputs": [
    {
     "name": "stdout",
     "output_type": "stream",
     "text": [
      "13.418357664935996\n",
      "46.54414488625596\n"
     ]
    }
   ],
   "source": [
    "print(np.std(array1))\n",
    "print(np.mean(array1))"
   ]
  },
  {
   "cell_type": "code",
   "execution_count": 5,
   "id": "83fb89ba",
   "metadata": {},
   "outputs": [
    {
     "name": "stdout",
     "output_type": "stream",
     "text": [
      "2.1042884515491873\n"
     ]
    },
    {
     "data": {
      "text/plain": [
       "np.float64(2.643579828712377)"
      ]
     },
     "execution_count": 5,
     "metadata": {},
     "output_type": "execute_result"
    }
   ],
   "source": [
    "print(np.median(array2))\n",
    "\n",
    "q75,q25 = np.percentile(array2,[75,25])\n",
    "iqr=q75-q25\n",
    "iqr"
   ]
  },
  {
   "cell_type": "markdown",
   "id": "46c70c3d",
   "metadata": {},
   "source": [
    "### Exercise 2\n",
    "\n",
    "Write a Python program to calculate the standard deviation of the following data:\n",
    "\n",
    "```py\n",
    "data = [4, 2, 5, 8, 6]\n",
    "```"
   ]
  },
  {
   "cell_type": "code",
   "execution_count": 6,
   "id": "d590308e",
   "metadata": {},
   "outputs": [],
   "source": [
    "# TODO"
   ]
  }
 ],
 "metadata": {
  "kernelspec": {
   "display_name": "Python 3",
   "language": "python",
   "name": "python3"
  },
  "language_info": {
   "codemirror_mode": {
    "name": "ipython",
    "version": 3
   },
   "file_extension": ".py",
   "mimetype": "text/x-python",
   "name": "python",
   "nbconvert_exporter": "python",
   "pygments_lexer": "ipython3",
   "version": "3.10.12"
  }
 },
 "nbformat": 4,
 "nbformat_minor": 5
}
