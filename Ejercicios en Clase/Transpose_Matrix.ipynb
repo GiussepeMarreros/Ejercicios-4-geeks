{
  "nbformat": 4,
  "nbformat_minor": 0,
  "metadata": {
    "colab": {
      "provenance": []
    },
    "kernelspec": {
      "name": "python3",
      "display_name": "Python 3"
    },
    "language_info": {
      "name": "python"
    }
  },
  "cells": [
    {
      "cell_type": "code",
      "source": [
        "import numpy as np"
      ],
      "metadata": {
        "id": "CGlZrxYTs7Cy"
      },
      "execution_count": 4,
      "outputs": []
    },
    {
      "cell_type": "code",
      "execution_count": 5,
      "metadata": {
        "id": "O3dva91-s1Ic"
      },
      "outputs": [],
      "source": [
        "mat=[[10,11,12],[88,89,90]]"
      ]
    },
    {
      "cell_type": "code",
      "source": [
        "transpose=[]\n",
        "for col in range(3):\n",
        "  fila=[] #lo mas importante\n",
        "  for row in range(2):\n",
        "    print(mat[row][col])\n",
        "    fila.append(mat[row][col])\n",
        "  transpose.append(fila)\n",
        "\n"
      ],
      "metadata": {
        "colab": {
          "base_uri": "https://localhost:8080/"
        },
        "id": "0qwOjF4cs-to",
        "outputId": "f72422f8-7ff1-4263-d3ed-ad3602c14976"
      },
      "execution_count": 7,
      "outputs": [
        {
          "output_type": "stream",
          "name": "stdout",
          "text": [
            "10\n",
            "88\n",
            "11\n",
            "89\n",
            "12\n",
            "90\n"
          ]
        }
      ]
    },
    {
      "cell_type": "code",
      "source": [
        "transpose"
      ],
      "metadata": {
        "colab": {
          "base_uri": "https://localhost:8080/"
        },
        "id": "1HDepHV1yE5R",
        "outputId": "5caeeff4-6841-45a8-da3b-6cf1900f5826"
      },
      "execution_count": 8,
      "outputs": [
        {
          "output_type": "execute_result",
          "data": {
            "text/plain": [
              "[[10, 88], [11, 89], [12, 90]]"
            ]
          },
          "metadata": {},
          "execution_count": 8
        }
      ]
    },
    {
      "cell_type": "code",
      "source": [
        "#alfonso\n",
        "def Transpuesta(x):\n",
        "    return [[x[j][i] for j in range(len(x))] for i in range(len(x[0]))]"
      ],
      "metadata": {
        "id": "gBSViAgoycD7"
      },
      "execution_count": null,
      "outputs": []
    },
    {
      "cell_type": "code",
      "source": [
        "#jose\n",
        "def transpose(matriz):\n",
        "  mt = np.zeros(shape=(len(matriz[0]), len(matriz)))\n",
        "  for i in range(len(matriz)):\n",
        "    for j in range(len(matriz[0])):\n",
        "      mt[j][i] = matriz[i][j]\n",
        "  return mt"
      ],
      "metadata": {
        "id": "qZ7vwsKXypbA"
      },
      "execution_count": null,
      "outputs": []
    }
  ]
}