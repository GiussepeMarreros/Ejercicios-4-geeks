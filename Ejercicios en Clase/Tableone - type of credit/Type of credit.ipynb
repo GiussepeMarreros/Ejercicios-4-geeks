{
 "cells": [
  {
   "cell_type": "code",
   "execution_count": 4,
   "metadata": {},
   "outputs": [],
   "source": [
    "import pandas as pd \n",
    "import numpy as np \n",
    "import re"
   ]
  },
  {
   "cell_type": "code",
   "execution_count": 5,
   "metadata": {},
   "outputs": [
    {
     "data": {
      "text/html": [
       "<div>\n",
       "<style scoped>\n",
       "    .dataframe tbody tr th:only-of-type {\n",
       "        vertical-align: middle;\n",
       "    }\n",
       "\n",
       "    .dataframe tbody tr th {\n",
       "        vertical-align: top;\n",
       "    }\n",
       "\n",
       "    .dataframe thead th {\n",
       "        text-align: right;\n",
       "    }\n",
       "</style>\n",
       "<table border=\"1\" class=\"dataframe\">\n",
       "  <thead>\n",
       "    <tr style=\"text-align: right;\">\n",
       "      <th></th>\n",
       "      <th>Monthly-payment</th>\n",
       "      <th>type_of_credit</th>\n",
       "      <th>Default</th>\n",
       "    </tr>\n",
       "  </thead>\n",
       "  <tbody>\n",
       "    <tr>\n",
       "      <th>0</th>\n",
       "      <td>4253.073763</td>\n",
       "      <td>Avance</td>\n",
       "      <td>0</td>\n",
       "    </tr>\n",
       "    <tr>\n",
       "      <th>1</th>\n",
       "      <td>360815.648703</td>\n",
       "      <td>Microempresario</td>\n",
       "      <td>1</td>\n",
       "    </tr>\n",
       "    <tr>\n",
       "      <th>2</th>\n",
       "      <td>299912.171531</td>\n",
       "      <td>Micro Convenio</td>\n",
       "      <td>0</td>\n",
       "    </tr>\n",
       "    <tr>\n",
       "      <th>3</th>\n",
       "      <td>333935.745843</td>\n",
       "      <td>Crédito  productivo urbano Micro</td>\n",
       "      <td>0</td>\n",
       "    </tr>\n",
       "    <tr>\n",
       "      <th>4</th>\n",
       "      <td>4207.902271</td>\n",
       "      <td>Avance</td>\n",
       "      <td>0</td>\n",
       "    </tr>\n",
       "    <tr>\n",
       "      <th>...</th>\n",
       "      <td>...</td>\n",
       "      <td>...</td>\n",
       "      <td>...</td>\n",
       "    </tr>\n",
       "    <tr>\n",
       "      <th>995</th>\n",
       "      <td>11206.020537</td>\n",
       "      <td>Avance</td>\n",
       "      <td>0</td>\n",
       "    </tr>\n",
       "    <tr>\n",
       "      <th>996</th>\n",
       "      <td>76542.677719</td>\n",
       "      <td>Premium</td>\n",
       "      <td>0</td>\n",
       "    </tr>\n",
       "    <tr>\n",
       "      <th>997</th>\n",
       "      <td>16632.268859</td>\n",
       "      <td>Avance</td>\n",
       "      <td>0</td>\n",
       "    </tr>\n",
       "    <tr>\n",
       "      <th>998</th>\n",
       "      <td>3014.069485</td>\n",
       "      <td>Avance</td>\n",
       "      <td>0</td>\n",
       "    </tr>\n",
       "    <tr>\n",
       "      <th>999</th>\n",
       "      <td>469585.218164</td>\n",
       "      <td>Credito Digital</td>\n",
       "      <td>0</td>\n",
       "    </tr>\n",
       "  </tbody>\n",
       "</table>\n",
       "<p>1000 rows × 3 columns</p>\n",
       "</div>"
      ],
      "text/plain": [
       "     Monthly-payment                     type_of_credit  Default\n",
       "0        4253.073763                             Avance        0\n",
       "1      360815.648703                   Microempresario         1\n",
       "2      299912.171531                    Micro Convenio         0\n",
       "3      333935.745843  Crédito  productivo urbano Micro         0\n",
       "4        4207.902271                             Avance        0\n",
       "..               ...                                ...      ...\n",
       "995     11206.020537                             Avance        0\n",
       "996     76542.677719                            Premium        0\n",
       "997     16632.268859                             Avance        0\n",
       "998      3014.069485                             Avance        0\n",
       "999    469585.218164                    Credito Digital        0\n",
       "\n",
       "[1000 rows x 3 columns]"
      ]
     },
     "execution_count": 5,
     "metadata": {},
     "output_type": "execute_result"
    }
   ],
   "source": [
    "df= pd.read_csv('https://raw.githubusercontent.com/it-ces/Datasets/main/type_of_credit.csv')\n",
    "df"
   ]
  },
  {
   "cell_type": "code",
   "execution_count": 6,
   "metadata": {},
   "outputs": [
    {
     "name": "stdout",
     "output_type": "stream",
     "text": [
      "<class 'pandas.core.frame.DataFrame'>\n",
      "RangeIndex: 1000 entries, 0 to 999\n",
      "Data columns (total 3 columns):\n",
      " #   Column           Non-Null Count  Dtype  \n",
      "---  ------           --------------  -----  \n",
      " 0   Monthly-payment  1000 non-null   float64\n",
      " 1   type_of_credit   1000 non-null   object \n",
      " 2   Default          1000 non-null   int64  \n",
      "dtypes: float64(1), int64(1), object(1)\n",
      "memory usage: 23.6+ KB\n"
     ]
    }
   ],
   "source": [
    "df.info()"
   ]
  },
  {
   "cell_type": "code",
   "execution_count": 7,
   "metadata": {},
   "outputs": [
    {
     "data": {
      "text/plain": [
       "type_of_credit\n",
       "Avance                                                True\n",
       " Libre Inversion                                      True\n",
       "Credito Digital                                       True\n",
       "Microcredito Empresarial Activos Fijos                True\n",
       "Pensionados  Apalancamiento                           True\n",
       "                                                     ...  \n",
       "Crédito productivo rural productivo activos fijos    False\n",
       "Profund Refinanc Pensionados                         False\n",
       " Readquisición Independientes                        False\n",
       "Libre Inversion                                      False\n",
       "Productivo urbano de credito Capital de Trabajo      False\n",
       "Name: count, Length: 66, dtype: bool"
      ]
     },
     "execution_count": 7,
     "metadata": {},
     "output_type": "execute_result"
    }
   ],
   "source": [
    "df['type_of_credit'].value_counts() > 25\n",
    "\n"
   ]
  },
  {
   "cell_type": "code",
   "execution_count": 8,
   "metadata": {},
   "outputs": [
    {
     "data": {
      "text/plain": [
       "count    1.000000e+03\n",
       "mean     2.700276e+05\n",
       "std      5.187051e+05\n",
       "min      2.454283e+02\n",
       "25%      7.029921e+03\n",
       "50%      8.658389e+04\n",
       "75%      3.259568e+05\n",
       "max      5.353655e+06\n",
       "Name: Monthly-payment, dtype: float64"
      ]
     },
     "execution_count": 8,
     "metadata": {},
     "output_type": "execute_result"
    }
   ],
   "source": [
    "df['Monthly-payment'].describe()"
   ]
  },
  {
   "cell_type": "code",
   "execution_count": 20,
   "metadata": {},
   "outputs": [
    {
     "data": {
      "text/plain": [
       "['0', '1', '2', '3', '4', '995', '996', '997', '998', '999', '1000']"
      ]
     },
     "execution_count": 20,
     "metadata": {},
     "output_type": "execute_result"
    }
   ],
   "source": [
    "susp=re.findall(r'[\\d]+', str(df['type_of_credit']))\n",
    "susp"
   ]
  },
  {
   "cell_type": "code",
   "execution_count": 10,
   "metadata": {},
   "outputs": [
    {
     "data": {
      "text/plain": [
       "tipo\n",
       "False    1000\n",
       "Name: count, dtype: int64"
      ]
     },
     "execution_count": 10,
     "metadata": {},
     "output_type": "execute_result"
    }
   ],
   "source": [
    "df['tipo']=df['type_of_credit'].str.contains(r'\\d+')\n",
    "df['tipo'].value_counts()"
   ]
  },
  {
   "cell_type": "code",
   "execution_count": 11,
   "metadata": {},
   "outputs": [
    {
     "data": {
      "text/plain": [
       "tipo\n",
       "False    503\n",
       "True     497\n",
       "Name: count, dtype: int64"
      ]
     },
     "execution_count": 11,
     "metadata": {},
     "output_type": "execute_result"
    }
   ],
   "source": [
    "df['tipo']=df['type_of_credit'].str.contains(r'[^a-zA-Z0-9]')\n",
    "df['tipo'].value_counts()"
   ]
  },
  {
   "cell_type": "code",
   "execution_count": 12,
   "metadata": {},
   "outputs": [
    {
     "data": {
      "text/html": [
       "<div>\n",
       "<style scoped>\n",
       "    .dataframe tbody tr th:only-of-type {\n",
       "        vertical-align: middle;\n",
       "    }\n",
       "\n",
       "    .dataframe tbody tr th {\n",
       "        vertical-align: top;\n",
       "    }\n",
       "\n",
       "    .dataframe thead th {\n",
       "        text-align: right;\n",
       "    }\n",
       "</style>\n",
       "<table border=\"1\" class=\"dataframe\">\n",
       "  <thead>\n",
       "    <tr style=\"text-align: right;\">\n",
       "      <th></th>\n",
       "      <th>Monthly-payment</th>\n",
       "      <th>type_of_credit</th>\n",
       "      <th>Default</th>\n",
       "      <th>tipo</th>\n",
       "    </tr>\n",
       "  </thead>\n",
       "  <tbody>\n",
       "    <tr>\n",
       "      <th>1</th>\n",
       "      <td>3.608156e+05</td>\n",
       "      <td>Microempresario</td>\n",
       "      <td>1</td>\n",
       "      <td>True</td>\n",
       "    </tr>\n",
       "    <tr>\n",
       "      <th>2</th>\n",
       "      <td>2.999122e+05</td>\n",
       "      <td>Micro Convenio</td>\n",
       "      <td>0</td>\n",
       "      <td>True</td>\n",
       "    </tr>\n",
       "    <tr>\n",
       "      <th>3</th>\n",
       "      <td>3.339357e+05</td>\n",
       "      <td>Crédito  productivo urbano Micro</td>\n",
       "      <td>0</td>\n",
       "      <td>True</td>\n",
       "    </tr>\n",
       "    <tr>\n",
       "      <th>7</th>\n",
       "      <td>3.896103e+05</td>\n",
       "      <td>Libre Inversion</td>\n",
       "      <td>0</td>\n",
       "      <td>True</td>\n",
       "    </tr>\n",
       "    <tr>\n",
       "      <th>8</th>\n",
       "      <td>4.585035e+05</td>\n",
       "      <td>Independientes Tipo A Apalancamiento</td>\n",
       "      <td>0</td>\n",
       "      <td>True</td>\n",
       "    </tr>\n",
       "    <tr>\n",
       "      <th>...</th>\n",
       "      <td>...</td>\n",
       "      <td>...</td>\n",
       "      <td>...</td>\n",
       "      <td>...</td>\n",
       "    </tr>\n",
       "    <tr>\n",
       "      <th>989</th>\n",
       "      <td>3.885353e+05</td>\n",
       "      <td>Micro</td>\n",
       "      <td>0</td>\n",
       "      <td>True</td>\n",
       "    </tr>\n",
       "    <tr>\n",
       "      <th>990</th>\n",
       "      <td>1.165338e+05</td>\n",
       "      <td>Credito Digital</td>\n",
       "      <td>0</td>\n",
       "      <td>True</td>\n",
       "    </tr>\n",
       "    <tr>\n",
       "      <th>991</th>\n",
       "      <td>1.383967e+06</td>\n",
       "      <td>volante Microempresarios Nuevos</td>\n",
       "      <td>1</td>\n",
       "      <td>True</td>\n",
       "    </tr>\n",
       "    <tr>\n",
       "      <th>992</th>\n",
       "      <td>7.112675e+03</td>\n",
       "      <td>Microcredito Cupo de Crédito</td>\n",
       "      <td>0</td>\n",
       "      <td>True</td>\n",
       "    </tr>\n",
       "    <tr>\n",
       "      <th>999</th>\n",
       "      <td>4.695852e+05</td>\n",
       "      <td>Credito Digital</td>\n",
       "      <td>0</td>\n",
       "      <td>True</td>\n",
       "    </tr>\n",
       "  </tbody>\n",
       "</table>\n",
       "<p>497 rows × 4 columns</p>\n",
       "</div>"
      ],
      "text/plain": [
       "     Monthly-payment                          type_of_credit  Default  tipo\n",
       "1       3.608156e+05                        Microempresario         1  True\n",
       "2       2.999122e+05                         Micro Convenio         0  True\n",
       "3       3.339357e+05       Crédito  productivo urbano Micro         0  True\n",
       "7       3.896103e+05                         Libre Inversion        0  True\n",
       "8       4.585035e+05  Independientes Tipo A Apalancamiento          0  True\n",
       "..               ...                                     ...      ...   ...\n",
       "989     3.885353e+05                                  Micro         0  True\n",
       "990     1.165338e+05                         Credito Digital        0  True\n",
       "991     1.383967e+06         volante Microempresarios Nuevos        1  True\n",
       "992     7.112675e+03            Microcredito Cupo de Crédito        0  True\n",
       "999     4.695852e+05                         Credito Digital        0  True\n",
       "\n",
       "[497 rows x 4 columns]"
      ]
     },
     "execution_count": 12,
     "metadata": {},
     "output_type": "execute_result"
    }
   ],
   "source": [
    "df[df['tipo']==True]"
   ]
  },
  {
   "cell_type": "code",
   "execution_count": 13,
   "metadata": {},
   "outputs": [],
   "source": [
    "def std_str(string):\n",
    "  if isinstance(string, str):\n",
    "    string = string.upper()\n",
    "    string = string.replace(\"Á\", \"A\")\n",
    "    string = string.replace('É', 'E')\n",
    "    string = string.replace('Í', 'I')\n",
    "    string = string.replace('Ó', 'O')\n",
    "    string = string.replace('Ú', 'U')\n",
    "    return string\n",
    "  else:\n",
    "    return string"
   ]
  },
  {
   "cell_type": "code",
   "execution_count": 14,
   "metadata": {},
   "outputs": [
    {
     "data": {
      "text/html": [
       "<div>\n",
       "<style scoped>\n",
       "    .dataframe tbody tr th:only-of-type {\n",
       "        vertical-align: middle;\n",
       "    }\n",
       "\n",
       "    .dataframe tbody tr th {\n",
       "        vertical-align: top;\n",
       "    }\n",
       "\n",
       "    .dataframe thead th {\n",
       "        text-align: right;\n",
       "    }\n",
       "</style>\n",
       "<table border=\"1\" class=\"dataframe\">\n",
       "  <thead>\n",
       "    <tr style=\"text-align: right;\">\n",
       "      <th></th>\n",
       "      <th>Monthly-payment</th>\n",
       "      <th>type_of_credit</th>\n",
       "      <th>Default</th>\n",
       "      <th>tipo</th>\n",
       "    </tr>\n",
       "  </thead>\n",
       "  <tbody>\n",
       "    <tr>\n",
       "      <th>0</th>\n",
       "      <td>4253.073763</td>\n",
       "      <td>AVANCE</td>\n",
       "      <td>0</td>\n",
       "      <td>False</td>\n",
       "    </tr>\n",
       "    <tr>\n",
       "      <th>1</th>\n",
       "      <td>360815.648703</td>\n",
       "      <td>MICROEMPRESARIO</td>\n",
       "      <td>1</td>\n",
       "      <td>True</td>\n",
       "    </tr>\n",
       "    <tr>\n",
       "      <th>2</th>\n",
       "      <td>299912.171531</td>\n",
       "      <td>MICROCONVENIO</td>\n",
       "      <td>0</td>\n",
       "      <td>True</td>\n",
       "    </tr>\n",
       "    <tr>\n",
       "      <th>3</th>\n",
       "      <td>333935.745843</td>\n",
       "      <td>CREDITOPRODUCTIVOURBANOMICRO</td>\n",
       "      <td>0</td>\n",
       "      <td>True</td>\n",
       "    </tr>\n",
       "    <tr>\n",
       "      <th>4</th>\n",
       "      <td>4207.902271</td>\n",
       "      <td>AVANCE</td>\n",
       "      <td>0</td>\n",
       "      <td>False</td>\n",
       "    </tr>\n",
       "    <tr>\n",
       "      <th>...</th>\n",
       "      <td>...</td>\n",
       "      <td>...</td>\n",
       "      <td>...</td>\n",
       "      <td>...</td>\n",
       "    </tr>\n",
       "    <tr>\n",
       "      <th>995</th>\n",
       "      <td>11206.020537</td>\n",
       "      <td>AVANCE</td>\n",
       "      <td>0</td>\n",
       "      <td>False</td>\n",
       "    </tr>\n",
       "    <tr>\n",
       "      <th>996</th>\n",
       "      <td>76542.677719</td>\n",
       "      <td>PREMIUM</td>\n",
       "      <td>0</td>\n",
       "      <td>False</td>\n",
       "    </tr>\n",
       "    <tr>\n",
       "      <th>997</th>\n",
       "      <td>16632.268859</td>\n",
       "      <td>AVANCE</td>\n",
       "      <td>0</td>\n",
       "      <td>False</td>\n",
       "    </tr>\n",
       "    <tr>\n",
       "      <th>998</th>\n",
       "      <td>3014.069485</td>\n",
       "      <td>AVANCE</td>\n",
       "      <td>0</td>\n",
       "      <td>False</td>\n",
       "    </tr>\n",
       "    <tr>\n",
       "      <th>999</th>\n",
       "      <td>469585.218164</td>\n",
       "      <td>CREDITODIGITAL</td>\n",
       "      <td>0</td>\n",
       "      <td>True</td>\n",
       "    </tr>\n",
       "  </tbody>\n",
       "</table>\n",
       "<p>1000 rows × 4 columns</p>\n",
       "</div>"
      ],
      "text/plain": [
       "     Monthly-payment                type_of_credit  Default   tipo\n",
       "0        4253.073763                        AVANCE        0  False\n",
       "1      360815.648703               MICROEMPRESARIO        1   True\n",
       "2      299912.171531                 MICROCONVENIO        0   True\n",
       "3      333935.745843  CREDITOPRODUCTIVOURBANOMICRO        0   True\n",
       "4        4207.902271                        AVANCE        0  False\n",
       "..               ...                           ...      ...    ...\n",
       "995     11206.020537                        AVANCE        0  False\n",
       "996     76542.677719                       PREMIUM        0  False\n",
       "997     16632.268859                        AVANCE        0  False\n",
       "998      3014.069485                        AVANCE        0  False\n",
       "999    469585.218164                CREDITODIGITAL        0   True\n",
       "\n",
       "[1000 rows x 4 columns]"
      ]
     },
     "execution_count": 14,
     "metadata": {},
     "output_type": "execute_result"
    }
   ],
   "source": [
    "# std_str(df['type_of_credit'])\n",
    "df['type_of_credit']=df['type_of_credit'].apply(lambda x : std_str(x))\n",
    "df['type_of_credit']=df['type_of_credit'].replace(' ','',regex=True)\n",
    "\n",
    "df"
   ]
  },
  {
   "cell_type": "code",
   "execution_count": 15,
   "metadata": {},
   "outputs": [
    {
     "data": {
      "text/plain": [
       "array(['AVANCE', 'MICROEMPRESARIO', 'MICROCONVENIO',\n",
       "       'CREDITOPRODUCTIVOURBANOMICRO', 'LIBREINVERSION',\n",
       "       'INDEPENDIENTESTIPOAAPALANCAMIENTO', 'LIBREINVERSIONEMPLEADOS',\n",
       "       'MICROEMPRESARIALACTIVOSFIJOSDOCREDITO',\n",
       "       'MICROCREDITOEMPRESARIALACTIVOSFIJOS', 'PREMIUMPENSIONADOS',\n",
       "       'CREDITODIGITAL', 'MICROCREDITOCUPODECREDITO',\n",
       "       'CREDITOPREAPROBADOCONSUMO', 'READQUISICIONEMPLEADOS', 'PREMIUM',\n",
       "       'PENSIONADOSAPALANCAMIENTO', 'VOLANTEINDEPENDIENTES',\n",
       "       'PENSIONADOS', 'TRABAJADORESPROSPERANDO', 'PRODUCTIVOURBANO',\n",
       "       'CREDITOPRODUCTIVOURBANODIGITAL', 'LIBREINVERSIONPENSIONADOS',\n",
       "       'MICRO', 'MICROEMPRESARACTIVOSFIJOSERCREDITO',\n",
       "       'INDEPENDIENTESTIPOBAPALANCAMIENTO', 'EMPLEADOS',\n",
       "       'EMPLEADOSSUSTITUCIONPASIVOS', 'VOLANTEPENSIONADOS',\n",
       "       'PREFERENCIAL', 'VOLANTEINDEPENDIENTESMICRO', 'INDEPENDIENTES',\n",
       "       'READQUISICIONMICROERCREDITO', 'EMPLEADOSDCTONOMINAA',\n",
       "       'VOLANTEMICROEMPRESARIOSNUEVOS', 'EMPLEADOSDEPERSONASNATURALES',\n",
       "       'DIGITAL', 'MICROCREDITO', 'VOLANTEEMPLEADOS',\n",
       "       'MICROCREDITODIGITAL', 'ADELANTODEPRIMA',\n",
       "       'CREDITOPRODUCTIVOURBANO', 'CREDIPENSIONADOSNOMINA',\n",
       "       'PREMIUMMICROCREDITO', 'URBANOCREDITOCAPITALDETRABAJO',\n",
       "       'MICROEMPRESARIALCAPITALDETRABAJODOCREDITO',\n",
       "       'READQUISICIONPENSIONADOS', 'TASAANTICIPADA',\n",
       "       'PENSIONADOSSUSTITUPASIVOS', 'EMPLEADOSREFINANCIACION',\n",
       "       'MICROCREDITOPREAPROBADOS', 'PENSIONADOSREFINANCIACION',\n",
       "       'PREMIUMEMLEADOSEINDEPENDIENTES',\n",
       "       'CREDITOPRODUCTIVORURALPRODUCTIVOACTIVOSFIJOS',\n",
       "       'PROFUNDREFINANCPENSIONADOS', 'READQUISICIONINDEPENDIENTES',\n",
       "       'PRODUCTIVOURBANODECREDITOCAPITALDETRABAJO'], dtype=object)"
      ]
     },
     "execution_count": 15,
     "metadata": {},
     "output_type": "execute_result"
    }
   ],
   "source": [
    "df['type_of_credit'].unique()"
   ]
  },
  {
   "cell_type": "code",
   "execution_count": 16,
   "metadata": {},
   "outputs": [],
   "source": [
    "# avance\n",
    "# libre inversion\n",
    "# digital (todo digital)\n",
    "# empleados\n",
    "# otros"
   ]
  },
  {
   "cell_type": "code",
   "execution_count": null,
   "metadata": {},
   "outputs": [],
   "source": [
    "digital=[]\n",
    "avance= []\n",
    "libre_inversion=[]\n",
    "microcredito=[]\n",
    "empleados=[]\n",
    "otros=[]\n",
    "\n",
    "\n",
    "x=r'[(?<!DIGITAL)micro(?!\\w+DIGITAL)]'\n",
    "\n"
   ]
  },
  {
   "cell_type": "code",
   "execution_count": null,
   "metadata": {},
   "outputs": [],
   "source": []
  },
  {
   "cell_type": "code",
   "execution_count": 18,
   "metadata": {},
   "outputs": [],
   "source": [
    "# df['type_of_credit'] = df['type_of_credit'].replace(r'[(?<!DIGITAL)micro(?!\\w+DIGITAL)]')\n",
    "\n",
    "df['type_of_credit']=df['type_of_credit']"
   ]
  }
 ],
 "metadata": {
  "kernelspec": {
   "display_name": "Python 3",
   "language": "python",
   "name": "python3"
  },
  "language_info": {
   "codemirror_mode": {
    "name": "ipython",
    "version": 3
   },
   "file_extension": ".py",
   "mimetype": "text/x-python",
   "name": "python",
   "nbconvert_exporter": "python",
   "pygments_lexer": "ipython3",
   "version": "3.10.12"
  }
 },
 "nbformat": 4,
 "nbformat_minor": 2
}
