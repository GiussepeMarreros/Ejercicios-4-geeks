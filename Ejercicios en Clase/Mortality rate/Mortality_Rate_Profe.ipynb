{
 "cells": [
  {
   "cell_type": "code",
   "execution_count": 2,
   "metadata": {
    "id": "c3MdTYAPTnqk"
   },
   "outputs": [],
   "source": [
    "import pandas as pd\n"
   ]
  },
  {
   "cell_type": "code",
   "execution_count": 3,
   "metadata": {
    "id": "sTYAeFtFTu5a"
   },
   "outputs": [],
   "source": [
    "df_1  = pd.read_excel(\"df-taller2.xlsx\", sheet_name=\"Hoja1\")"
   ]
  },
  {
   "cell_type": "code",
   "execution_count": 4,
   "metadata": {
    "id": "D_meCQlWT9sA"
   },
   "outputs": [],
   "source": [
    "df_2 = pd.read_excel(\"df-taller2.xlsx\", sheet_name=\"Hoja2\")"
   ]
  },
  {
   "cell_type": "code",
   "execution_count": 5,
   "metadata": {
    "colab": {
     "base_uri": "https://localhost:8080/"
    },
    "id": "WR8tw9TaUBj5",
    "outputId": "628f71a1-f735-4484-c44d-2a83ed764b3d"
   },
   "outputs": [
    {
     "name": "stdout",
     "output_type": "stream",
     "text": [
      "Dpto\n",
      "5     0.380952\n",
      "11    0.380952\n",
      "41    0.238095\n",
      "Name: proportion, dtype: float64\n",
      "MPIO\n",
      "411    0.238095\n",
      "51     0.190476\n",
      "52     0.190476\n",
      "111    0.142857\n",
      "112    0.142857\n",
      "113    0.095238\n",
      "Name: proportion, dtype: float64\n",
      "Causa_667\n",
      "305    0.571429\n",
      "102    0.428571\n",
      "Name: proportion, dtype: float64\n"
     ]
    }
   ],
   "source": [
    "#df_1.info()\n",
    "for col in  df_1.columns:\n",
    "  print(df_1[col].value_counts(normalize=True))"
   ]
  },
  {
   "cell_type": "code",
   "execution_count": 6,
   "metadata": {
    "colab": {
     "base_uri": "https://localhost:8080/"
    },
    "id": "YteKNoD-UHn0",
    "outputId": "cbd602c9-e8aa-428c-da46-3fa618ce5f45"
   },
   "outputs": [
    {
     "name": "stdout",
     "output_type": "stream",
     "text": [
      "<class 'pandas.core.frame.DataFrame'>\n",
      "RangeIndex: 8 entries, 0 to 7\n",
      "Data columns (total 2 columns):\n",
      " #   Column    Non-Null Count  Dtype\n",
      "---  ------    --------------  -----\n",
      " 0   Municpio  8 non-null      int64\n",
      " 1   pop       8 non-null      int64\n",
      "dtypes: int64(2)\n",
      "memory usage: 256.0 bytes\n"
     ]
    }
   ],
   "source": [
    "df_2.info()"
   ]
  },
  {
   "cell_type": "code",
   "execution_count": 7,
   "metadata": {
    "colab": {
     "base_uri": "https://localhost:8080/"
    },
    "id": "G5HY0SyrVZjh",
    "outputId": "be7ed51d-950c-460c-d360-902735287325"
   },
   "outputs": [
    {
     "data": {
      "text/plain": [
       "Index(['Municpio', 'pop'], dtype='object')"
      ]
     },
     "execution_count": 7,
     "metadata": {},
     "output_type": "execute_result"
    }
   ],
   "source": [
    "df_2.columns"
   ]
  },
  {
   "cell_type": "code",
   "execution_count": 8,
   "metadata": {
    "colab": {
     "base_uri": "https://localhost:8080/",
     "height": 335
    },
    "id": "hUZ0JecIUX87",
    "outputId": "fa8318bb-0730-4d3b-979f-89e2786963bc"
   },
   "outputs": [
    {
     "data": {
      "text/plain": [
       "Municpio\n",
       "781    2\n",
       "52     1\n",
       "51     1\n",
       "411    1\n",
       "111    1\n",
       "113    1\n",
       "112    1\n",
       "Name: count, dtype: int64"
      ]
     },
     "execution_count": 8,
     "metadata": {},
     "output_type": "execute_result"
    }
   ],
   "source": [
    "df_2['Municpio'].value_counts()"
   ]
  },
  {
   "cell_type": "code",
   "execution_count": 9,
   "metadata": {
    "colab": {
     "base_uri": "https://localhost:8080/",
     "height": 335
    },
    "id": "B7RvghXTVjYM",
    "outputId": "65504f99-967d-40a7-93e8-66ba56e6d0ec"
   },
   "outputs": [
    {
     "data": {
      "text/plain": [
       "count     8.000000\n",
       "mean     43.375000\n",
       "std      29.144652\n",
       "min      12.000000\n",
       "25%      19.750000\n",
       "50%      35.000000\n",
       "75%      72.500000\n",
       "max      80.000000\n",
       "Name: pop, dtype: float64"
      ]
     },
     "execution_count": 9,
     "metadata": {},
     "output_type": "execute_result"
    }
   ],
   "source": [
    "df_2['pop'].describe()"
   ]
  },
  {
   "cell_type": "code",
   "execution_count": 10,
   "metadata": {
    "colab": {
     "base_uri": "https://localhost:8080/"
    },
    "id": "dkVKsrKmVu5o",
    "outputId": "2249acb8-c479-4f10-b8fd-a89aa5416496"
   },
   "outputs": [
    {
     "name": "stdout",
     "output_type": "stream",
     "text": [
      "Index(['Dpto', 'MPIO', 'Causa_667'], dtype='object')\n",
      "Index(['Municpio', 'pop'], dtype='object')\n"
     ]
    }
   ],
   "source": [
    "print(df_1.columns)\n",
    "print(df_2.columns)"
   ]
  },
  {
   "cell_type": "code",
   "execution_count": 11,
   "metadata": {
    "colab": {
     "base_uri": "https://localhost:8080/"
    },
    "id": "yxrxKW_pV5m0",
    "outputId": "86d51af2-6bec-45b7-e554-17412e2913b5"
   },
   "outputs": [
    {
     "data": {
      "text/plain": [
       "array([ 51,  52, 411, 111, 112, 113])"
      ]
     },
     "execution_count": 11,
     "metadata": {},
     "output_type": "execute_result"
    }
   ],
   "source": [
    "df_1['MPIO'].unique()"
   ]
  },
  {
   "cell_type": "code",
   "execution_count": 12,
   "metadata": {
    "colab": {
     "base_uri": "https://localhost:8080/"
    },
    "id": "S8oCVI3eWBFW",
    "outputId": "e243c739-96e9-44d5-cead-1adfc4463a91"
   },
   "outputs": [
    {
     "data": {
      "text/plain": [
       "array([ 51,  52, 411, 111, 113, 112, 781])"
      ]
     },
     "execution_count": 12,
     "metadata": {},
     "output_type": "execute_result"
    }
   ],
   "source": [
    "df_2['Municpio'].unique()"
   ]
  },
  {
   "cell_type": "code",
   "execution_count": 13,
   "metadata": {
    "colab": {
     "base_uri": "https://localhost:8080/"
    },
    "id": "YpICtUFTcjqb",
    "outputId": "7158b35f-a654-44a1-975d-62a94d161d40"
   },
   "outputs": [
    {
     "data": {
      "text/plain": [
       "array([ 5, 41, 11])"
      ]
     },
     "execution_count": 13,
     "metadata": {},
     "output_type": "execute_result"
    }
   ],
   "source": [
    "df_1['Dpto'].unique()"
   ]
  },
  {
   "cell_type": "code",
   "execution_count": 14,
   "metadata": {
    "id": "3UG9Enahcyl9"
   },
   "outputs": [],
   "source": [
    "def extract(string):\n",
    "  if len(string)==2:\n",
    "    return string[0]\n",
    "  else:\n",
    "    return string[0:2]"
   ]
  },
  {
   "cell_type": "code",
   "execution_count": 15,
   "metadata": {
    "colab": {
     "base_uri": "https://localhost:8080/"
    },
    "id": "y2myovvCWF3o",
    "outputId": "90e3795f-ea33-4f8a-8b71-4fda75b553a7"
   },
   "outputs": [
    {
     "data": {
      "text/plain": [
       "set()"
      ]
     },
     "execution_count": 15,
     "metadata": {},
     "output_type": "execute_result"
    }
   ],
   "source": [
    "set(df_1['MPIO'].unique()) - set(df_2['Municpio'].unique())"
   ]
  },
  {
   "cell_type": "code",
   "execution_count": 16,
   "metadata": {
    "colab": {
     "base_uri": "https://localhost:8080/"
    },
    "id": "D87xCpaMWg1N",
    "outputId": "3848a280-3f40-4319-b0ef-c2a87b42b7b3"
   },
   "outputs": [
    {
     "data": {
      "text/plain": [
       "{np.int64(781)}"
      ]
     },
     "execution_count": 16,
     "metadata": {},
     "output_type": "execute_result"
    }
   ],
   "source": [
    "set(df_2['Municpio'].unique()) - set(df_1['MPIO'].unique())"
   ]
  },
  {
   "cell_type": "code",
   "execution_count": 17,
   "metadata": {
    "id": "Ds3QIaWBWx1v"
   },
   "outputs": [],
   "source": [
    "df_1['muertes']  = df_1.groupby(by=['Dpto','Causa_667']).transform('count')"
   ]
  },
  {
   "cell_type": "code",
   "execution_count": 18,
   "metadata": {
    "id": "t4IooYu3Yxjy"
   },
   "outputs": [],
   "source": [
    "df_1 = df_1[-df_1.duplicated(subset=['Dpto', 'Causa_667'])]"
   ]
  },
  {
   "cell_type": "code",
   "execution_count": 19,
   "metadata": {
    "id": "Qp1Lg15uXAto"
   },
   "outputs": [],
   "source": [
    "df_2['Dpto']  = df_2['Municpio'].apply(lambda x: int(extract(str(x))))\n",
    "df_2['totalpop'] = df_2.groupby(by=['Dpto'])['pop'].transform('sum')"
   ]
  },
  {
   "cell_type": "code",
   "execution_count": 20,
   "metadata": {
    "id": "plEMgHfTZbNC"
   },
   "outputs": [],
   "source": [
    "df_2 = df_2[['Dpto','totalpop']].copy()\n",
    "df_2 = df_2[-df_2.duplicated(subset=['Dpto'])]"
   ]
  },
  {
   "cell_type": "code",
   "execution_count": 21,
   "metadata": {
    "id": "-U-gVqdecNNz"
   },
   "outputs": [],
   "source": [
    "full = df_1.merge(df_2, on='Dpto')"
   ]
  },
  {
   "cell_type": "code",
   "execution_count": 22,
   "metadata": {
    "id": "L5EGmQ13cTWJ"
   },
   "outputs": [],
   "source": [
    "full['rates'] = (full['muertes']/full['totalpop'])*100"
   ]
  },
  {
   "cell_type": "code",
   "execution_count": 23,
   "metadata": {
    "colab": {
     "base_uri": "https://localhost:8080/",
     "height": 206
    },
    "id": "EfzAeH9Bdp3w",
    "outputId": "79224df6-8ddf-4d9d-9014-e58592445b35"
   },
   "outputs": [
    {
     "data": {
      "text/html": [
       "<div>\n",
       "<style scoped>\n",
       "    .dataframe tbody tr th:only-of-type {\n",
       "        vertical-align: middle;\n",
       "    }\n",
       "\n",
       "    .dataframe tbody tr th {\n",
       "        vertical-align: top;\n",
       "    }\n",
       "\n",
       "    .dataframe thead th {\n",
       "        text-align: right;\n",
       "    }\n",
       "</style>\n",
       "<table border=\"1\" class=\"dataframe\">\n",
       "  <thead>\n",
       "    <tr style=\"text-align: right;\">\n",
       "      <th></th>\n",
       "      <th>Dpto</th>\n",
       "      <th>MPIO</th>\n",
       "      <th>Causa_667</th>\n",
       "      <th>muertes</th>\n",
       "      <th>totalpop</th>\n",
       "      <th>rates</th>\n",
       "    </tr>\n",
       "  </thead>\n",
       "  <tbody>\n",
       "    <tr>\n",
       "      <th>0</th>\n",
       "      <td>5</td>\n",
       "      <td>51</td>\n",
       "      <td>102</td>\n",
       "      <td>5</td>\n",
       "      <td>70</td>\n",
       "      <td>7.142857</td>\n",
       "    </tr>\n",
       "    <tr>\n",
       "      <th>1</th>\n",
       "      <td>5</td>\n",
       "      <td>52</td>\n",
       "      <td>305</td>\n",
       "      <td>3</td>\n",
       "      <td>70</td>\n",
       "      <td>4.285714</td>\n",
       "    </tr>\n",
       "    <tr>\n",
       "      <th>2</th>\n",
       "      <td>41</td>\n",
       "      <td>411</td>\n",
       "      <td>305</td>\n",
       "      <td>5</td>\n",
       "      <td>70</td>\n",
       "      <td>7.142857</td>\n",
       "    </tr>\n",
       "    <tr>\n",
       "      <th>3</th>\n",
       "      <td>11</td>\n",
       "      <td>111</td>\n",
       "      <td>305</td>\n",
       "      <td>4</td>\n",
       "      <td>47</td>\n",
       "      <td>8.510638</td>\n",
       "    </tr>\n",
       "    <tr>\n",
       "      <th>4</th>\n",
       "      <td>11</td>\n",
       "      <td>111</td>\n",
       "      <td>102</td>\n",
       "      <td>4</td>\n",
       "      <td>47</td>\n",
       "      <td>8.510638</td>\n",
       "    </tr>\n",
       "  </tbody>\n",
       "</table>\n",
       "</div>"
      ],
      "text/plain": [
       "   Dpto  MPIO  Causa_667  muertes  totalpop     rates\n",
       "0     5    51        102        5        70  7.142857\n",
       "1     5    52        305        3        70  4.285714\n",
       "2    41   411        305        5        70  7.142857\n",
       "3    11   111        305        4        47  8.510638\n",
       "4    11   111        102        4        47  8.510638"
      ]
     },
     "execution_count": 23,
     "metadata": {},
     "output_type": "execute_result"
    }
   ],
   "source": [
    "full"
   ]
  },
  {
   "cell_type": "markdown",
   "metadata": {
    "id": "UtclrfifUADL"
   },
   "source": []
  }
 ],
 "metadata": {
  "colab": {
   "provenance": []
  },
  "kernelspec": {
   "display_name": "Python 3",
   "name": "python3"
  },
  "language_info": {
   "codemirror_mode": {
    "name": "ipython",
    "version": 3
   },
   "file_extension": ".py",
   "mimetype": "text/x-python",
   "name": "python",
   "nbconvert_exporter": "python",
   "pygments_lexer": "ipython3",
   "version": "3.10.12"
  }
 },
 "nbformat": 4,
 "nbformat_minor": 0
}
