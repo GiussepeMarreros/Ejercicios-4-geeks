{
  "nbformat": 4,
  "nbformat_minor": 0,
  "metadata": {
    "colab": {
      "provenance": []
    },
    "kernelspec": {
      "name": "python3",
      "display_name": "Python 3"
    },
    "language_info": {
      "name": "python"
    }
  },
  "cells": [
    {
      "cell_type": "code",
      "execution_count": null,
      "metadata": {
        "colab": {
          "base_uri": "https://localhost:8080/"
        },
        "id": "ft0FQmlXwHr9",
        "outputId": "52c49821-22f5-4e90-856c-44e797776e7a"
      },
      "outputs": [
        {
          "output_type": "stream",
          "name": "stdout",
          "text": [
            "9\n"
          ]
        }
      ],
      "source": [
        "import numpy as np\n",
        "import pandas as pd\n",
        "\n",
        "n = 9\n",
        "\n",
        "def factorial(n):\n",
        "  acum = 1\n",
        "  for x in range(1,n+1):\n",
        "    acum = acum * x\n",
        "  return acum\n",
        "print(n)"
      ]
    },
    {
      "cell_type": "markdown",
      "source": [
        "Ejemplo de un factorial usando funcion WHILE"
      ],
      "metadata": {
        "id": "dGm3WljtFv2P"
      }
    },
    {
      "cell_type": "code",
      "source": [
        "def fac2(n):\n",
        "  prod = 1\n",
        "  while n > 1:\n",
        "      prod *= n\n",
        "      n -= 1\n",
        "  return prod\n",
        "print(fac2(5))"
      ],
      "metadata": {
        "colab": {
          "base_uri": "https://localhost:8080/"
        },
        "id": "SCYq87ZSElrG",
        "outputId": "76472b81-8982-4021-9930-076417b6c4b9"
      },
      "execution_count": null,
      "outputs": [
        {
          "output_type": "stream",
          "name": "stdout",
          "text": [
            "120\n"
          ]
        }
      ]
    },
    {
      "cell_type": "code",
      "source": [
        "def fac2(n):\n",
        "  prod=1\n",
        "  while n > 1:\n",
        "    prod = prod * n\n",
        "    n = n - 1\n",
        "  return prod\n",
        "fac2(5)"
      ],
      "metadata": {
        "colab": {
          "base_uri": "https://localhost:8080/"
        },
        "id": "picozka2F54I",
        "outputId": "6d3eebf4-5b0f-4821-d274-7bce6fb3d6c0"
      },
      "execution_count": null,
      "outputs": [
        {
          "output_type": "execute_result",
          "data": {
            "text/plain": [
              "120"
            ]
          },
          "metadata": {},
          "execution_count": 15
        }
      ]
    }
  ]
}