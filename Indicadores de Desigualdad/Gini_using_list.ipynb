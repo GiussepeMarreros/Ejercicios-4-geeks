{
  "nbformat": 4,
  "nbformat_minor": 0,
  "metadata": {
    "colab": {
      "provenance": []
    },
    "kernelspec": {
      "name": "python3",
      "display_name": "Python 3"
    },
    "language_info": {
      "name": "python"
    }
  },
  "cells": [
    {
      "cell_type": "code",
      "source": [
        "# coeficiente de gini"
      ],
      "metadata": {
        "id": "jV5wMJkJBKar"
      },
      "execution_count": null,
      "outputs": []
    },
    {
      "cell_type": "code",
      "source": [
        "def gini(array):\n",
        "  def cumsum(array):\n",
        "    output = [0]\n",
        "    counter = 0\n",
        "    total = sum(array)\n",
        "    for e in array:\n",
        "      counter = counter + e\n",
        "      output.append(counter/total)\n",
        "    return output\n",
        "  array.sort()\n",
        "  n = [i/len(array) for i in range(0,len(array)+1)]\n",
        "  acum_array = cumsum(array)\n",
        "  area = 0\n",
        "  for i in range(1,len(acum_array)):\n",
        "    area = area +  (acum_array[i] + acum_array[i-1]) * (n[i] - n[i-1])\n",
        "  return 1  - area"
      ],
      "metadata": {
        "id": "X0MXKin5Edrv"
      },
      "execution_count": null,
      "outputs": []
    },
    {
      "cell_type": "code",
      "source": [
        "gini([25, 34, 40, 50, 50, 80, 270, 300, 400, 500])"
      ],
      "metadata": {
        "colab": {
          "base_uri": "https://localhost:8080/"
        },
        "id": "VEpg_KTUFDKe",
        "outputId": "514ee400-9726-4bb5-e875-30cc737c65e8"
      },
      "execution_count": null,
      "outputs": [
        {
          "output_type": "execute_result",
          "data": {
            "text/plain": [
              "0.5046883933676387"
            ]
          },
          "metadata": {},
          "execution_count": 3
        }
      ]
    }
  ]
}