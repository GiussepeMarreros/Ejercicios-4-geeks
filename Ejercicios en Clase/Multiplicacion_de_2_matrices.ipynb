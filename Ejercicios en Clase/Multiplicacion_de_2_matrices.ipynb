{
  "nbformat": 4,
  "nbformat_minor": 0,
  "metadata": {
    "colab": {
      "provenance": []
    },
    "kernelspec": {
      "name": "python3",
      "display_name": "Python 3"
    },
    "language_info": {
      "name": "python"
    }
  },
  "cells": [
    {
      "cell_type": "code",
      "source": [
        "import numpy as np"
      ],
      "metadata": {
        "id": "ATn2Sb--1StF"
      },
      "execution_count": null,
      "outputs": []
    },
    {
      "cell_type": "code",
      "source": [
        "matA = np.array([[1,2,3],\n",
        "                [4,5,6],\n",
        "                 [1,1,1]])  # 2 filas 3 columnas\n",
        "\n",
        "\n",
        "matB  = np.array([[0,1,0],\n",
        "                  [1,1,1],\n",
        "                  [2,3,0]]) # 3 filas y 3 columnas"
      ],
      "metadata": {
        "id": "wAlEgw6t057M"
      },
      "execution_count": null,
      "outputs": []
    },
    {
      "cell_type": "code",
      "source": [
        "np.array(matA) @ np.array(matB)"
      ],
      "metadata": {
        "colab": {
          "base_uri": "https://localhost:8080/"
        },
        "id": "MNpuRNVV1MKR",
        "outputId": "2e80b5e1-e3cb-457d-edee-1cc7ab3c1769"
      },
      "execution_count": null,
      "outputs": [
        {
          "output_type": "execute_result",
          "data": {
            "text/plain": [
              "array([[ 8, 12,  2],\n",
              "       [17, 27,  5],\n",
              "       [ 3,  5,  1]])"
            ]
          },
          "metadata": {},
          "execution_count": 18
        }
      ]
    },
    {
      "cell_type": "code",
      "source": [
        "matA * matB"
      ],
      "metadata": {
        "colab": {
          "base_uri": "https://localhost:8080/"
        },
        "id": "N6GKc8vx2Aq7",
        "outputId": "fd0d0458-b8eb-4d12-b6b5-2ef97a8cc2a7"
      },
      "execution_count": null,
      "outputs": [
        {
          "output_type": "execute_result",
          "data": {
            "text/plain": [
              "array([[0, 2, 0],\n",
              "       [4, 5, 6],\n",
              "       [2, 3, 0]])"
            ]
          },
          "metadata": {},
          "execution_count": 19
        }
      ]
    }
  ]
}