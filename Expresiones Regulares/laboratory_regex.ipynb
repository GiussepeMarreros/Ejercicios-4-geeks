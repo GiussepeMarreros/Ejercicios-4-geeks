{
 "cells": [
  {
   "cell_type": "code",
   "execution_count": 1,
   "metadata": {
    "id": "x1d6I4BgMg0C"
   },
   "outputs": [],
   "source": [
    "import re\n",
    "import pandas as pd"
   ]
  },
  {
   "cell_type": "code",
   "execution_count": 2,
   "metadata": {
    "id": "rWQhwxn_Gx2f"
   },
   "outputs": [],
   "source": [
    "# Useful"
   ]
  },
  {
   "cell_type": "code",
   "execution_count": 3,
   "metadata": {
    "id": "mPlxmzT-G5zN"
   },
   "outputs": [],
   "source": [
    "#* sub\n",
    "#* subn"
   ]
  },
  {
   "cell_type": "code",
   "execution_count": 4,
   "metadata": {
    "id": "Drjbj3_UIsPA"
   },
   "outputs": [],
   "source": [
    "string = \"This is a course about data analysis\""
   ]
  },
  {
   "cell_type": "code",
   "execution_count": 5,
   "metadata": {
    "colab": {
     "base_uri": "https://localhost:8080/"
    },
    "id": "EkaPxOXKIyky",
    "outputId": "0c82dd7c-9510-47ce-88f0-04851b553d79"
   },
   "outputs": [
    {
     "data": {
      "text/plain": [
       "['is', 'is', 'is']"
      ]
     },
     "execution_count": 5,
     "metadata": {},
     "output_type": "execute_result"
    }
   ],
   "source": [
    "re.findall(\"is\", string)"
   ]
  },
  {
   "cell_type": "code",
   "execution_count": 6,
   "metadata": {
    "colab": {
     "base_uri": "https://localhost:8080/"
    },
    "id": "3jZQqSPGI25v",
    "outputId": "9e304fcb-f23e-4a44-cbd7-c7c239145aaf"
   },
   "outputs": [
    {
     "data": {
      "text/plain": [
       "['3', '4']"
      ]
     },
     "execution_count": 6,
     "metadata": {},
     "output_type": "execute_result"
    }
   ],
   "source": [
    "string = 'The  wage of DS is 3 or 4 times more higher than other professions '\n",
    "re.findall(\"\\d\", string)"
   ]
  },
  {
   "cell_type": "code",
   "execution_count": 7,
   "metadata": {
    "colab": {
     "base_uri": "https://localhost:8080/"
    },
    "id": "-N5f3GR7J9mN",
    "outputId": "a883e171-3739-492a-e0bb-a5e10a813db1"
   },
   "outputs": [
    {
     "data": {
      "text/plain": [
       "['3', '5', '4']"
      ]
     },
     "execution_count": 7,
     "metadata": {},
     "output_type": "execute_result"
    }
   ],
   "source": [
    "string = 'The  wage of DS is 3.5 or 4 times more higher than other professions '\n",
    "re.findall(\"\\d\", string)  # What is the problem?"
   ]
  },
  {
   "cell_type": "markdown",
   "metadata": {
    "id": "1eL-X9s3KjTt"
   },
   "source": [
    "# identifiers:\n",
    "  * \\d any number [0-9]\n",
    "  * \\D not number [^0-9]\n",
    "  * \\s  blank space [\\t\\n\\r\\f\\v]\n",
    "  * \\S no blank space  [^\\t\\n\\r\\f\\v]\n",
    "  * \\w Alphanumeric character [a-zA-Z0-9_]\n",
    "  * \\W Non-Alphanumeric [^a-zA-Z0-9_]\n",
    "  * . any character except new line\n",
    "\n",
    "# modifiers\n",
    "  * \\+ match one or more\n",
    "  * ? match 0 or 1 repetition (optional)\n",
    "  * \\* 0 or more\n",
    "  * $ to the end of the string\n",
    "  * ^ begining the string\n",
    "  * | or a | b (a or b)\n",
    "  * [] a admited set or range [a-z]\n",
    "  * [^ ] not admitet set not numbers [^0-9]\n",
    "  * {n} exactly n repetitions\n",
    "  * {n,} at least n repetiions\n",
    "  * {,n} at most n repetitions\n",
    "  * {n,m} between n and m repetetions\n",
    "  * \\* equal to 0 o more repetitions {0,}\n",
    "  * \\+ equal  to 1 o more times {1,}\n",
    "  * ? is the optional {0,1}\n",
    "\n",
    "\n",
    "research what is r\"string\" for what is?\n",
    "\\ scape sequence  with r is override.\n",
    "\n",
    "\n"
   ]
  },
  {
   "cell_type": "markdown",
   "metadata": {
    "id": "-LMK0-vhrSBF"
   },
   "source": [
    "# we need research abot\n",
    "d,D s,S b,B"
   ]
  },
  {
   "cell_type": "code",
   "execution_count": 8,
   "metadata": {
    "colab": {
     "base_uri": "https://localhost:8080/"
    },
    "id": "5gWiyFGiKYa6",
    "outputId": "db3bb027-e28f-47e4-cad9-908c95eabdaf"
   },
   "outputs": [
    {
     "data": {
      "text/plain": [
       "['d', 'a', 't', 'a', 'i', 's', 't', 'h', 'e', 'k', 'e', 'y']"
      ]
     },
     "execution_count": 8,
     "metadata": {},
     "output_type": "execute_result"
    }
   ],
   "source": [
    "string = 'data is the key'\n",
    "re.findall(\"\\w\", string) # For instance add a + here after 7"
   ]
  },
  {
   "cell_type": "code",
   "execution_count": 9,
   "metadata": {
    "id": "cdQ-qTGyrRFp"
   },
   "outputs": [],
   "source": [
    "# How we can work with pandas\n",
    "# We can eliminate words in a numeric variable"
   ]
  },
  {
   "cell_type": "code",
   "execution_count": 10,
   "metadata": {
    "id": "pWV4oJKNudrh"
   },
   "outputs": [],
   "source": [
    "df  = pd.DataFrame({'var1':['7mm', '8MM', '9Mm'],\n",
    "                    'var2':['123a', '123AB', '134m'],\n",
    "                    'var3':['A1', 'A28', 'B']})"
   ]
  },
  {
   "cell_type": "code",
   "execution_count": 28,
   "metadata": {
    "colab": {
     "base_uri": "https://localhost:8080/",
     "height": 178
    },
    "id": "SHU4yTu0OgMA",
    "outputId": "6c77e67a-840d-4e60-9129-0bb81bae983a"
   },
   "outputs": [
    {
     "data": {
      "text/plain": [
       "0    7\n",
       "1    8\n",
       "2    9\n",
       "Name: var1, dtype: object"
      ]
     },
     "execution_count": 28,
     "metadata": {},
     "output_type": "execute_result"
    }
   ],
   "source": [
    "# How works if the regex make mathc then replace for empty..\n",
    "df['var1'].replace('[a-zA-Z]', \"\",regex=True)"
   ]
  },
  {
   "cell_type": "code",
   "execution_count": 12,
   "metadata": {
    "colab": {
     "base_uri": "https://localhost:8080/",
     "height": 178
    },
    "id": "YVv2U_RfQSmj",
    "outputId": "81276acd-f16f-4970-e03e-c944858df1af"
   },
   "outputs": [
    {
     "data": {
      "text/plain": [
       "0    123\n",
       "1    123\n",
       "2    134\n",
       "Name: var2, dtype: object"
      ]
     },
     "execution_count": 12,
     "metadata": {},
     "output_type": "execute_result"
    }
   ],
   "source": [
    "df['var2'].replace('[a-zA-Z]', \"\",regex=True)"
   ]
  },
  {
   "cell_type": "code",
   "execution_count": 13,
   "metadata": {
    "colab": {
     "base_uri": "https://localhost:8080/",
     "height": 178
    },
    "id": "NC9pMvdVQsxy",
    "outputId": "3a5a46e9-fb73-459c-8f49-24a18505a039"
   },
   "outputs": [
    {
     "data": {
      "text/plain": [
       "0    A\n",
       "1    A\n",
       "2    B\n",
       "Name: var3, dtype: object"
      ]
     },
     "execution_count": 13,
     "metadata": {},
     "output_type": "execute_result"
    }
   ],
   "source": [
    "df['var3'].replace(\"\\d\", \"\", regex=True)"
   ]
  },
  {
   "cell_type": "code",
   "execution_count": 14,
   "metadata": {
    "id": "bwhXZS0XZEIt"
   },
   "outputs": [],
   "source": [
    "import re"
   ]
  },
  {
   "cell_type": "code",
   "execution_count": 15,
   "metadata": {
    "id": "iPRaGY15dmeC"
   },
   "outputs": [],
   "source": [
    "log = 'upgraded pandas to 3.0.1 version'"
   ]
  },
  {
   "cell_type": "code",
   "execution_count": 20,
   "metadata": {
    "id": "_FLQO8iAemZZ"
   },
   "outputs": [],
   "source": [
    "regex = r\"\\d.*\\d\""
   ]
  },
  {
   "cell_type": "code",
   "execution_count": null,
   "metadata": {
    "id": "WGt1U4cjexRx"
   },
   "outputs": [
    {
     "data": {
      "text/html": [
       "<div>\n",
       "<style scoped>\n",
       "    .dataframe tbody tr th:only-of-type {\n",
       "        vertical-align: middle;\n",
       "    }\n",
       "\n",
       "    .dataframe tbody tr th {\n",
       "        vertical-align: top;\n",
       "    }\n",
       "\n",
       "    .dataframe thead th {\n",
       "        text-align: right;\n",
       "    }\n",
       "</style>\n",
       "<table border=\"1\" class=\"dataframe\">\n",
       "  <thead>\n",
       "    <tr style=\"text-align: right;\">\n",
       "      <th></th>\n",
       "      <th>var1</th>\n",
       "      <th>var2</th>\n",
       "      <th>var3</th>\n",
       "    </tr>\n",
       "  </thead>\n",
       "  <tbody>\n",
       "    <tr>\n",
       "      <th>0</th>\n",
       "      <td>7</td>\n",
       "      <td>123a</td>\n",
       "      <td>A1</td>\n",
       "    </tr>\n",
       "    <tr>\n",
       "      <th>1</th>\n",
       "      <td>8</td>\n",
       "      <td>123AB</td>\n",
       "      <td>A28</td>\n",
       "    </tr>\n",
       "    <tr>\n",
       "      <th>2</th>\n",
       "      <td>9</td>\n",
       "      <td>134m</td>\n",
       "      <td>B</td>\n",
       "    </tr>\n",
       "  </tbody>\n",
       "</table>\n",
       "</div>"
      ],
      "text/plain": [
       "  var1   var2 var3\n",
       "0    7   123a   A1\n",
       "1    8  123AB  A28\n",
       "2    9   134m    B"
      ]
     },
     "execution_count": 29,
     "metadata": {},
     "output_type": "execute_result"
    }
   ],
   "source": [
    " result  =  re.search(regex,log)\n",
    "\n"
   ]
  },
  {
   "cell_type": "code",
   "execution_count": 27,
   "metadata": {
    "colab": {
     "base_uri": "https://localhost:8080/"
    },
    "id": "2YRhGHsfg98T",
    "outputId": "b1a58c51-f7e9-4f60-89a3-e02b8d91272a"
   },
   "outputs": [
    {
     "name": "stdout",
     "output_type": "stream",
     "text": [
      "3.0.1\n"
     ]
    }
   ],
   "source": [
    "print(result[0])\n"
   ]
  },
  {
   "cell_type": "markdown",
   "metadata": {
    "id": "0UVWf1gJQC7L"
   },
   "source": []
  }
 ],
 "metadata": {
  "colab": {
   "provenance": []
  },
  "kernelspec": {
   "display_name": "Python 3",
   "name": "python3"
  },
  "language_info": {
   "codemirror_mode": {
    "name": "ipython",
    "version": 3
   },
   "file_extension": ".py",
   "mimetype": "text/x-python",
   "name": "python",
   "nbconvert_exporter": "python",
   "pygments_lexer": "ipython3",
   "version": "3.10.12"
  }
 },
 "nbformat": 4,
 "nbformat_minor": 0
}
