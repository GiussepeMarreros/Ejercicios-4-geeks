{
  "nbformat": 4,
  "nbformat_minor": 0,
  "metadata": {
    "colab": {
      "provenance": []
    },
    "kernelspec": {
      "name": "python3",
      "display_name": "Python 3"
    },
    "language_info": {
      "name": "python"
    }
  },
  "cells": [
    {
      "cell_type": "code",
      "execution_count": null,
      "metadata": {
        "id": "v1R4v5Ns2s3K"
      },
      "outputs": [],
      "source": [
        "import pandas as pd"
      ]
    },
    {
      "cell_type": "code",
      "source": [
        "import math"
      ],
      "metadata": {
        "id": "pENOvphj8WlY"
      },
      "execution_count": null,
      "outputs": []
    },
    {
      "cell_type": "code",
      "source": [
        "datos = [500000, 700000, 890000 , 1000000, 4300000]"
      ],
      "metadata": {
        "id": "WnV1O6943P_T"
      },
      "execution_count": null,
      "outputs": []
    },
    {
      "cell_type": "code",
      "source": [
        "def theil(datos):\n",
        "  I = sum(datos)\n",
        "  n = len(datos)\n",
        "  acum = 0\n",
        "  for income in datos:\n",
        "    x = income/I\n",
        "    acum = acum + x * math.log(x *  n)\n",
        "  return acum"
      ],
      "metadata": {
        "id": "oaQIuz22_ZsX"
      },
      "execution_count": null,
      "outputs": []
    },
    {
      "cell_type": "code",
      "source": [
        "theil(datos)"
      ],
      "metadata": {
        "colab": {
          "base_uri": "https://localhost:8080/"
        },
        "id": "BfQljqGG_iHM",
        "outputId": "d007e772-55e4-4e00-d1cf-053ebcb849c2"
      },
      "execution_count": null,
      "outputs": [
        {
          "output_type": "execute_result",
          "data": {
            "text/plain": [
              "0.3633133506949696"
            ]
          },
          "metadata": {},
          "execution_count": 24
        }
      ]
    },
    {
      "cell_type": "code",
      "source": [
        "def theil(array):\n",
        "  Y = sum(array)\n",
        "  N = len(array)\n",
        "  relative = [y/Y for y in array]\n",
        "  Theil = sum([y * math.log(y * N) for y in relative])/math.log(N)\n",
        "  return Theil"
      ],
      "metadata": {
        "id": "4mSkk9WcRdL_"
      },
      "execution_count": null,
      "outputs": []
    },
    {
      "cell_type": "code",
      "source": [
        "theil([19, 0.1, 0.1, 0.01 ])"
      ],
      "metadata": {
        "colab": {
          "base_uri": "https://localhost:8080/"
        },
        "id": "dEcSE0VSRiDg",
        "outputId": "b9eb2aa7-bc76-4b37-fddc-b95c7a382d44"
      },
      "execution_count": null,
      "outputs": [
        {
          "output_type": "execute_result",
          "data": {
            "text/plain": [
              "0.9498302168586825"
            ]
          },
          "metadata": {},
          "execution_count": 29
        }
      ]
    }
  ]
}