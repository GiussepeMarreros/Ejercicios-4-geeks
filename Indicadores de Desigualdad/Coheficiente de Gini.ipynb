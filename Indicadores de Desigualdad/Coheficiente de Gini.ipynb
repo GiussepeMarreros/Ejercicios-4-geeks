{
 "cells": [
  {
   "cell_type": "markdown",
   "metadata": {
    "id": "3g-ruZpn3OA-"
   },
   "source": [
    "# Calcular la riqueza acumulada desde el elemento mas pobre hasta el mas rico"
   ]
  },
  {
   "cell_type": "code",
   "execution_count": 29,
   "metadata": {
    "colab": {
     "base_uri": "https://localhost:8080/"
    },
    "executionInfo": {
     "elapsed": 328,
     "status": "ok",
     "timestamp": 1732664490385,
     "user": {
      "displayName": "Giussepe Marreros",
      "userId": "09795373203289606012"
     },
     "user_tz": 300
    },
    "id": "3FnIypI30sei",
    "outputId": "6152174e-3993-47aa-cff1-39792a741ba1"
   },
   "outputs": [
    {
     "data": {
      "text/plain": [
       "[0.014,\n",
       " 0.048,\n",
       " 0.091,\n",
       " 0.14200000000000002,\n",
       " 0.199,\n",
       " 0.274,\n",
       " 0.474,\n",
       " 0.7989999999999999,\n",
       " 1.1989999999999998,\n",
       " 1.714]"
      ]
     },
     "execution_count": 29,
     "metadata": {},
     "output_type": "execute_result"
    }
   ],
   "source": [
    "import numpy as np\n",
    "\n",
    "n=[0.1,0.2,0.3,0.4,0.5,0.6,0.7,0.8,0.9,1]\n",
    "y=[0.014,0.034,0.057,0.085,0.114,0.160,0.314,0.485,0.714,1]\n",
    "\n",
    "c3=[]\n",
    "\n",
    "for i in range(0,10):\n",
    "  if i == 0:\n",
    "    c3.append(y[i])\n",
    "  else:\n",
    "    c3.append(y[i]+y[i-1])\n",
    "\n",
    "c3"
   ]
  },
  {
   "cell_type": "code",
   "execution_count": 31,
   "metadata": {
    "colab": {
     "base_uri": "https://localhost:8080/"
    },
    "executionInfo": {
     "elapsed": 2,
     "status": "ok",
     "timestamp": 1732664573709,
     "user": {
      "displayName": "Giussepe Marreros",
      "userId": "09795373203289606012"
     },
     "user_tz": 300
    },
    "id": "O9zahFJS16kj",
    "outputId": "be37ff35-144b-4aae-b9d6-d13cbc77350f"
   },
   "outputs": [
    {
     "data": {
      "text/plain": [
       "[0.1, 0.1, 0.1, 0.1, 0.1, 0.1, 0.1, 0.1, 0.1, 0.1]"
      ]
     },
     "execution_count": 31,
     "metadata": {},
     "output_type": "execute_result"
    }
   ],
   "source": [
    "c4=[0.1]*10\n",
    "\n",
    "c4"
   ]
  },
  {
   "cell_type": "code",
   "execution_count": 38,
   "metadata": {
    "colab": {
     "base_uri": "https://localhost:8080/",
     "height": 159
    },
    "executionInfo": {
     "elapsed": 312,
     "status": "error",
     "timestamp": 1732664600289,
     "user": {
      "displayName": "Giussepe Marreros",
      "userId": "09795373203289606012"
     },
     "user_tz": 300
    },
    "id": "A1jAjRUQ22Rs",
    "outputId": "0a07f47d-49b4-4504-9984-a115a494576a"
   },
   "outputs": [
    {
     "data": {
      "text/plain": [
       "[0.0014000000000000002,\n",
       " 0.0048000000000000004,\n",
       " 0.0091,\n",
       " 0.014200000000000003,\n",
       " 0.0199,\n",
       " 0.027400000000000004,\n",
       " 0.0474,\n",
       " 0.0799,\n",
       " 0.11989999999999999,\n",
       " 0.1714]"
      ]
     },
     "execution_count": 38,
     "metadata": {},
     "output_type": "execute_result"
    }
   ],
   "source": [
    "c5= [c3*c4 for c3,c4 in zip(c3,c4)]\n",
    "\n",
    "c5\n",
    "\n"
   ]
  },
  {
   "cell_type": "code",
   "execution_count": null,
   "metadata": {},
   "outputs": [],
   "source": [
    "def gini(array):\n",
    "  def cumsum(array):\n",
    "    output = [0]\n",
    "    counter = 0\n",
    "    total = sum(array)\n",
    "    for e in array:\n",
    "      counter = counter + e\n",
    "      output.append(counter/total)\n",
    "    return output\n",
    "  array.sort()\n",
    "  n = [i/len(array) for i in range(0,len(array)+1)]\n",
    "  acum_array = cumsum(array)\n",
    "  area = 0\n",
    "  for i in range(1,len(acum_array)):\n",
    "    area = area +  (acum_array[i] + acum_array[i-1]) * (n[i] - n[i-1])\n",
    "  return 1  - area"
   ]
  }
 ],
 "metadata": {
  "colab": {
   "authorship_tag": "ABX9TyMSH9Oh10S99JgknBcqpZmZ",
   "provenance": []
  },
  "kernelspec": {
   "display_name": "Python 3",
   "name": "python3"
  },
  "language_info": {
   "codemirror_mode": {
    "name": "ipython",
    "version": 3
   },
   "file_extension": ".py",
   "mimetype": "text/x-python",
   "name": "python",
   "nbconvert_exporter": "python",
   "pygments_lexer": "ipython3",
   "version": "3.10.12"
  }
 },
 "nbformat": 4,
 "nbformat_minor": 0
}
