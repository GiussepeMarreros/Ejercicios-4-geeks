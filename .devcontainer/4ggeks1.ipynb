{
 "cells": [
  {
   "cell_type": "code",
   "execution_count": 1,
   "metadata": {},
   "outputs": [],
   "source": [
    "import numpy as np "
   ]
  },
  {
   "cell_type": "code",
   "execution_count": 2,
   "metadata": {},
   "outputs": [
    {
     "ename": "ValueError",
     "evalue": "invalid literal for int() with base 10: ''",
     "output_type": "error",
     "traceback": [
      "\u001b[0;31m---------------------------------------------------------------------------\u001b[0m",
      "\u001b[0;31mValueError\u001b[0m                                Traceback (most recent call last)",
      "Cell \u001b[0;32mIn[2], line 3\u001b[0m\n\u001b[1;32m      1\u001b[0m \u001b[38;5;66;03m# 1. Tipos de datos\u001b[39;00m\n\u001b[1;32m      2\u001b[0m nombre \u001b[38;5;241m=\u001b[39m \u001b[38;5;28minput\u001b[39m(\u001b[38;5;124m\"\u001b[39m\u001b[38;5;124mPor favor, ingresa tu nombre:\u001b[39m\u001b[38;5;124m\"\u001b[39m)\n\u001b[0;32m----> 3\u001b[0m edad \u001b[38;5;241m=\u001b[39m \u001b[38;5;28;43mint\u001b[39;49m\u001b[43m(\u001b[49m\u001b[38;5;28;43minput\u001b[39;49m\u001b[43m(\u001b[49m\u001b[38;5;124;43m\"\u001b[39;49m\u001b[38;5;124;43mPor favor, ingresa tu edad:\u001b[39;49m\u001b[38;5;124;43m\"\u001b[39;49m\u001b[43m)\u001b[49m\u001b[43m)\u001b[49m\n\u001b[1;32m      5\u001b[0m \u001b[38;5;66;03m# 2. Estructura de decisión\u001b[39;00m\n\u001b[1;32m      6\u001b[0m \u001b[38;5;28;01mif\u001b[39;00m edad \u001b[38;5;241m<\u001b[39m \u001b[38;5;241m18\u001b[39m:\n",
      "\u001b[0;31mValueError\u001b[0m: invalid literal for int() with base 10: ''"
     ]
    }
   ],
   "source": [
    "# 1. Tipos de datos\n",
    "nombre = input(\"Por favor, ingresa tu nombre:\")\n",
    "edad = int(input(\"Por favor, ingresa tu edad:\"))\n",
    "\n",
    "# 2. Estructura de decisión\n",
    "if edad < 18:\n",
    "    estado = \"menor de edad\"\n",
    "    actividades = [\"estudiar\", \"andar en bicicleta\", \"salir con amigos\"]\n",
    "elif edad < 65:\n",
    "    estado = \"adulto\"\n",
    "    actividades = [\"trabajar\", \"leer un libro\", \"viajar\"]\n",
    "else:\n",
    "    estado = \"adulto mayor\"\n",
    "    actividades = [\"descansar\", \"leer el periódico\", \"pasear\"]\n",
    "\n",
    "# 3. Estructura de repetición\n",
    "print(f\"\\nHola, {nombre}. Eres un {estado}. Aquí hay algunas actividades que podrías considerar:\")\n",
    "for actividad in actividades:\n",
    "    print(f\"- {actividad}\")"
   ]
  }
 ],
 "metadata": {
  "kernelspec": {
   "display_name": "Python 3",
   "language": "python",
   "name": "python3"
  },
  "language_info": {
   "codemirror_mode": {
    "name": "ipython",
    "version": 3
   },
   "file_extension": ".py",
   "mimetype": "text/x-python",
   "name": "python",
   "nbconvert_exporter": "python",
   "pygments_lexer": "ipython3",
   "version": "3.10.12"
  }
 },
 "nbformat": 4,
 "nbformat_minor": 2
}
